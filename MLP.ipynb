{
 "cells": [
  {
   "cell_type": "code",
   "execution_count": 30,
   "metadata": {},
   "outputs": [],
   "source": [
    "from sklearn.neural_network import MLPRegressor\n",
    "from sklearn.model_selection import train_test_split\n",
    "from sklearn.preprocessing import StandardScaler\n",
    "from sklearn.metrics import r2_score,mean_squared_error\n",
    "import pandas as pd\n",
    "import numpy as np\n",
    "import matplotlib.pyplot as plt"
   ]
  },
  {
   "cell_type": "code",
   "execution_count": 31,
   "metadata": {},
   "outputs": [],
   "source": [
    "df = pd.read_csv('Test3_Full_Original.csv',\n",
    "            delimiter=',', names=['x', 'y', 'Magicv2', 'localization4', 'localizationlab', 'Magicv2_5g', 'UVIC_Eduroam1', 'UVIC_Eduroam2', 'localization3', 'localization_lab5g', 'localization1', 'localization4_5g', 'UVIC_Eduroam3', 'localization2', 'localization3_5g', 'UVIC_Eduroam4', 'localization1_5g'])\n",
    "df = df.loc[:,['x','y','Magicv2', 'localization4', 'localizationlab', 'Magicv2_5g', \n",
    "       'localization3', 'localization_lab5g', 'localization1', 'localization4_5g', 'localization2',\n",
    "       'localization3_5g', 'localization1_5g']]\n",
    "\n",
    "df['Average'] = (df.Magicv2 + df.localization4 + df.localizationlab + df.Magicv2_5g + df.localization3 + df.localization_lab5g + df.localization1 + df.localization4_5g + df.localization2 + df.localization3_5g + df.localization1_5g)/11"
   ]
  },
  {
   "cell_type": "code",
   "execution_count": 32,
   "metadata": {},
   "outputs": [],
   "source": [
    "X = df.drop('Average', axis = 1)\n",
    "y = df['Average']"
   ]
  },
  {
   "cell_type": "code",
   "execution_count": 33,
   "metadata": {},
   "outputs": [],
   "source": [
    "x_train, x_test, y_train, y_test = train_test_split(X, y, test_size=0.2,shuffle=False)"
   ]
  },
  {
   "cell_type": "code",
   "execution_count": 41,
   "metadata": {},
   "outputs": [],
   "source": [
    "reg = MLPRegressor(hidden_layer_sizes=(30,30,30),activation=\"relu\" ,random_state=1, max_iter=2000).fit(x_train, y_train)"
   ]
  },
  {
   "cell_type": "code",
   "execution_count": 42,
   "metadata": {},
   "outputs": [
    {
     "data": {
      "text/plain": [
       "array([-73.66940987, -74.08764233, -74.00877953, -74.03304972,\n",
       "       -73.88036704, -74.30858464, -74.45584429, -74.50369452,\n",
       "       -74.05666872, -73.57217731, -73.86763375, -73.74594367,\n",
       "       -73.92376221, -74.04383137, -73.4648931 , -73.88183665,\n",
       "       -74.60128371, -73.80765572, -73.60019209, -73.60019209,\n",
       "       -73.09045344, -73.51183968, -72.95219852, -73.27605505,\n",
       "       -75.651788  , -72.93020883, -72.75424438, -72.69882775,\n",
       "       -72.34353746, -72.34353746, -72.86171626, -72.86171626,\n",
       "       -72.76395892, -72.73767083, -72.95494547, -72.90929336,\n",
       "       -73.61801985, -73.72795146, -73.27036797, -73.05681037,\n",
       "       -73.05681037, -73.02672828, -72.84962156, -72.76412283,\n",
       "       -72.04372545, -72.51192667, -71.35022851, -71.53408662,\n",
       "       -71.37062884, -71.05210886, -71.37072929, -71.27205958,\n",
       "       -71.33985879, -74.99199357, -71.86434089, -71.63381496,\n",
       "       -72.01563334, -71.93342024, -72.17860692, -71.93342024,\n",
       "       -71.68548807, -71.88426623, -72.10470445, -71.86888178,\n",
       "       -74.08291198, -73.19025123, -73.62935351, -71.32241682,\n",
       "       -71.34743945, -70.87644047, -71.26674815, -71.79355286,\n",
       "       -71.27036471, -71.42627354, -71.57303622, -71.59138481,\n",
       "       -71.68312031, -71.69253856, -71.66060237, -71.89972737,\n",
       "       -71.89972737, -71.89972737, -71.77560498, -71.38457564,\n",
       "       -70.59688318, -72.84213699, -72.70121639, -72.88189914,\n",
       "       -73.14568013, -73.10672087, -70.58219054, -70.29057968,\n",
       "       -70.38018733, -70.29057968, -70.38748663, -70.17980355,\n",
       "       -70.17980355, -70.21032296, -70.25295574, -70.07022298,\n",
       "       -70.84314335, -70.35775697, -70.34331401, -70.3200939 ,\n",
       "       -72.04860385, -71.8484974 , -68.52239267, -69.21368868,\n",
       "       -69.19543488, -68.59342337, -68.98929181, -69.52632233,\n",
       "       -69.25264976, -69.22942965, -69.13982199, -70.18735965,\n",
       "       -68.76385593, -69.95009884, -69.67541628, -69.2410977 ,\n",
       "       -68.85049548, -69.40174371, -69.14210634, -69.15633965])"
      ]
     },
     "execution_count": 42,
     "metadata": {},
     "output_type": "execute_result"
    }
   ],
   "source": [
    "y_pred=reg.predict(x_test)\n",
    "y_pred"
   ]
  },
  {
   "cell_type": "code",
   "execution_count": 43,
   "metadata": {},
   "outputs": [
    {
     "data": {
      "text/plain": [
       "1.0323224641180981"
      ]
     },
     "execution_count": 43,
     "metadata": {},
     "output_type": "execute_result"
    }
   ],
   "source": [
    "mse = mean_squared_error(y_test, y_pred)\n",
    "rmse = np.sqrt(mse)\n",
    "rmse"
   ]
  },
  {
   "cell_type": "code",
   "execution_count": 44,
   "metadata": {},
   "outputs": [
    {
     "data": {
      "text/html": [
       "<div>\n",
       "<style scoped>\n",
       "    .dataframe tbody tr th:only-of-type {\n",
       "        vertical-align: middle;\n",
       "    }\n",
       "\n",
       "    .dataframe tbody tr th {\n",
       "        vertical-align: top;\n",
       "    }\n",
       "\n",
       "    .dataframe thead th {\n",
       "        text-align: right;\n",
       "    }\n",
       "</style>\n",
       "<table border=\"1\" class=\"dataframe\">\n",
       "  <thead>\n",
       "    <tr style=\"text-align: right;\">\n",
       "      <th></th>\n",
       "      <th>Actual</th>\n",
       "      <th>Predicted</th>\n",
       "    </tr>\n",
       "  </thead>\n",
       "  <tbody>\n",
       "    <tr>\n",
       "      <th>496</th>\n",
       "      <td>-74.090909</td>\n",
       "      <td>-73.669410</td>\n",
       "    </tr>\n",
       "    <tr>\n",
       "      <th>497</th>\n",
       "      <td>-74.181818</td>\n",
       "      <td>-74.087642</td>\n",
       "    </tr>\n",
       "    <tr>\n",
       "      <th>498</th>\n",
       "      <td>-74.090909</td>\n",
       "      <td>-74.008780</td>\n",
       "    </tr>\n",
       "    <tr>\n",
       "      <th>499</th>\n",
       "      <td>-74.181818</td>\n",
       "      <td>-74.033050</td>\n",
       "    </tr>\n",
       "    <tr>\n",
       "      <th>500</th>\n",
       "      <td>-75.000000</td>\n",
       "      <td>-73.880367</td>\n",
       "    </tr>\n",
       "    <tr>\n",
       "      <th>...</th>\n",
       "      <td>...</td>\n",
       "      <td>...</td>\n",
       "    </tr>\n",
       "    <tr>\n",
       "      <th>615</th>\n",
       "      <td>-70.363636</td>\n",
       "      <td>-69.241098</td>\n",
       "    </tr>\n",
       "    <tr>\n",
       "      <th>616</th>\n",
       "      <td>-70.181818</td>\n",
       "      <td>-68.850495</td>\n",
       "    </tr>\n",
       "    <tr>\n",
       "      <th>617</th>\n",
       "      <td>-70.454545</td>\n",
       "      <td>-69.401744</td>\n",
       "    </tr>\n",
       "    <tr>\n",
       "      <th>618</th>\n",
       "      <td>-70.363636</td>\n",
       "      <td>-69.142106</td>\n",
       "    </tr>\n",
       "    <tr>\n",
       "      <th>619</th>\n",
       "      <td>-70.272727</td>\n",
       "      <td>-69.156340</td>\n",
       "    </tr>\n",
       "  </tbody>\n",
       "</table>\n",
       "<p>124 rows × 2 columns</p>\n",
       "</div>"
      ],
      "text/plain": [
       "        Actual  Predicted\n",
       "496 -74.090909 -73.669410\n",
       "497 -74.181818 -74.087642\n",
       "498 -74.090909 -74.008780\n",
       "499 -74.181818 -74.033050\n",
       "500 -75.000000 -73.880367\n",
       "..         ...        ...\n",
       "615 -70.363636 -69.241098\n",
       "616 -70.181818 -68.850495\n",
       "617 -70.454545 -69.401744\n",
       "618 -70.363636 -69.142106\n",
       "619 -70.272727 -69.156340\n",
       "\n",
       "[124 rows x 2 columns]"
      ]
     },
     "execution_count": 44,
     "metadata": {},
     "output_type": "execute_result"
    }
   ],
   "source": [
    "df=pd.DataFrame({'Actual':y_test, 'Predicted':y_pred})\n",
    "df"
   ]
  },
  {
   "cell_type": "code",
   "execution_count": 45,
   "metadata": {},
   "outputs": [
    {
     "name": "stdout",
     "output_type": "stream",
     "text": [
      "Mean Absolute Error: 0.9872074869504239\n",
      "Mean Squared Error: 1.065689669922862\n",
      "Root Mean Squared Error: 1.0323224641180981\n"
     ]
    }
   ],
   "source": [
    "from sklearn import metrics\n",
    "print('Mean Absolute Error:', metrics.mean_absolute_error(y_test, y_pred))\n",
    "print('Mean Squared Error:', metrics.mean_squared_error(y_test, y_pred))\n",
    "print('Root Mean Squared Error:', np.sqrt(metrics.mean_squared_error(y_test, y_pred)))\n"
   ]
  },
  {
   "cell_type": "code",
   "execution_count": 46,
   "metadata": {},
   "outputs": [
    {
     "data": {
      "image/png": "[encoded data removed]",
      "text/plain": [
       "<Figure size 432x288 with 1 Axes>"
      ]
     },
     "metadata": {
      "needs_background": "light"
     },
     "output_type": "display_data"
    }
   ],
   "source": [
    "plt.plot(df.Actual.index, df.Actual)\n",
    "plt.plot(df.Actual.index, df.Predicted)\n",
    "plt.plot(df.Actual.index, df)\n",
    "plt.show()"
   ]
  },
  {
   "cell_type": "code",
   "execution_count": null,
   "metadata": {},
   "outputs": [],
   "source": []
  }
 ],
 "metadata": {
  "kernelspec": {
   "display_name": "Python 3",
   "language": "python",
   "name": "python3"
  },
  "language_info": {
   "codemirror_mode": {
    "name": "ipython",
    "version": 3
   },
   "file_extension": ".py",
   "mimetype": "text/x-python",
   "name": "python",
   "nbconvert_exporter": "python",
   "pygments_lexer": "ipython3",
   "version": "3.7.6"
  }
 },
 "nbformat": 4,
 "nbformat_minor": 4
}
