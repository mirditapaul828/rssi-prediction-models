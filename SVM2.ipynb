{
 "cells": [
  {
   "cell_type": "code",
   "execution_count": 139,
   "metadata": {},
   "outputs": [],
   "source": [
    "import numpy as np\n",
    "import pandas as pd\n",
    "from sklearn.model_selection import train_test_split\n",
    "from sklearn.svm import SVR\n",
    "from sklearn.metrics import r2_score,mean_squared_error\n",
    "import seaborn as sns\n",
    "import matplotlib.pyplot as plt"
   ]
  },
  {
   "cell_type": "code",
   "execution_count": 140,
   "metadata": {},
   "outputs": [],
   "source": [
    "df = pd.read_csv('Test3_Full_Original.csv',\n",
    "            delimiter=',', names=['x', 'y', 'Magicv2', 'localization4', 'localizationlab', 'Magicv2_5g', 'UVIC_Eduroam1', 'UVIC_Eduroam2', 'localization3', 'localization_lab5g', 'localization1', 'localization4_5g', 'UVIC_Eduroam3', 'localization2', 'localization3_5g', 'UVIC_Eduroam4', 'localization1_5g'])\n",
    "df = df.loc[:,['x','y','Magicv2', 'localization4', 'localizationlab', 'Magicv2_5g', \n",
    "       'localization3', 'localization_lab5g', 'localization1', 'localization4_5g', 'localization2',\n",
    "       'localization3_5g', 'localization1_5g']]\n",
    "\n",
    "df['Average'] = (df.Magicv2 + df.localization4 + df.localizationlab + df.Magicv2_5g + df.localization3 + df.localization_lab5g + df.localization1 + df.localization4_5g + df.localization2 + df.localization3_5g + df.localization1_5g)/11"
   ]
  },
  {
   "cell_type": "code",
   "execution_count": 141,
   "metadata": {},
   "outputs": [],
   "source": [
    "X = df.drop('Average', axis = 1)\n",
    "y = df['Average']"
   ]
  },
  {
   "cell_type": "code",
   "execution_count": 142,
   "metadata": {},
   "outputs": [],
   "source": [
    "x_train, x_test, y_train, y_test = train_test_split(X, y, test_size=0.2,shuffle=False)\n"
   ]
  },
  {
   "cell_type": "code",
   "execution_count": 143,
   "metadata": {},
   "outputs": [
    {
     "data": {
      "text/plain": [
       "SVR(C=1.0, cache_size=200, coef0=0.0, degree=3, epsilon=0.1, gamma='scale',\n",
       "    kernel='rbf', max_iter=-1, shrinking=True, tol=0.001, verbose=False)"
      ]
     },
     "execution_count": 143,
     "metadata": {},
     "output_type": "execute_result"
    }
   ],
   "source": [
    "SupportVectorRegModel = SVR()\n",
    "SupportVectorRegModel.fit(x_train, y_train)"
   ]
  },
  {
   "cell_type": "code",
   "execution_count": 144,
   "metadata": {},
   "outputs": [
    {
     "data": {
      "text/plain": [
       "array([-74.04738125, -74.06095169, -73.9841801 , -74.03478127,\n",
       "       -74.73831309, -75.23711091, -75.1440453 , -75.02213182,\n",
       "       -74.65242046, -74.32358767, -74.52679227, -74.53861377,\n",
       "       -74.6651208 , -74.98263682, -74.4189718 , -74.66092895,\n",
       "       -75.24630763, -74.57913438, -74.44175036, -74.44175036,\n",
       "       -73.86597739, -74.25433831, -73.95019558, -73.98281616,\n",
       "       -76.38146662, -73.62625864, -73.40020903, -73.33257898,\n",
       "       -73.04410782, -73.04410782, -73.69164114, -73.69164114,\n",
       "       -73.61496067, -73.38924962, -73.53982105, -73.48173545,\n",
       "       -74.15116581, -74.21578438, -73.82865085, -73.68072431,\n",
       "       -73.68072431, -73.60496123, -73.5494031 , -73.40731231,\n",
       "       -73.14142611, -73.61152357, -72.6251876 , -72.80995517,\n",
       "       -72.6737361 , -72.14931946, -72.48276752, -72.31921582,\n",
       "       -72.34807105, -75.2231493 , -72.6676385 , -72.33486811,\n",
       "       -72.9277597 , -72.77603915, -72.98456234, -72.77603915,\n",
       "       -72.6446985 , -72.78514725, -73.09272679, -72.78906099,\n",
       "       -74.94005302, -74.37190744, -74.62704691, -72.32427233,\n",
       "       -72.39536328, -72.12031556, -72.37643623, -72.90206013,\n",
       "       -72.48690886, -72.5738689 , -72.61940447, -72.63723436,\n",
       "       -72.72810652, -72.86924046, -72.88703013, -72.99759315,\n",
       "       -72.99759315, -72.99759315, -72.84818017, -72.54978615,\n",
       "       -72.49259887, -74.63742679, -74.38699591, -74.50636683,\n",
       "       -74.70230246, -74.62438456, -72.24441828, -72.11393741,\n",
       "       -72.18364527, -72.11393741, -72.24228033, -72.04028877,\n",
       "       -72.04028877, -72.17333336, -72.10049788, -71.90570971,\n",
       "       -72.53633239, -72.19896559, -72.16042715, -72.0859494 ,\n",
       "       -73.14369355, -73.85907136, -70.64571322, -70.96145142,\n",
       "       -70.95469409, -70.81658   , -71.29317169, -71.32215142,\n",
       "       -71.13104873, -71.0554883 , -70.98505636, -71.82277914,\n",
       "       -70.90542127, -71.79855379, -71.33136379, -71.07682099,\n",
       "       -70.98777842, -71.1397609 , -71.11498112, -70.98802382])"
      ]
     },
     "execution_count": 144,
     "metadata": {},
     "output_type": "execute_result"
    }
   ],
   "source": [
    "y_pred = SupportVectorRegModel.predict(x_test)\n",
    "y_pred"
   ]
  },
  {
   "cell_type": "code",
   "execution_count": 145,
   "metadata": {},
   "outputs": [
    {
     "data": {
      "text/plain": [
       "0.3632660781710827"
      ]
     },
     "execution_count": 145,
     "metadata": {},
     "output_type": "execute_result"
    }
   ],
   "source": [
    "mse = mean_squared_error(y_test, y_pred)\n",
    "rmse = np.sqrt(mse)\n",
    "rmse"
   ]
  },
  {
   "cell_type": "code",
   "execution_count": 146,
   "metadata": {},
   "outputs": [
    {
     "data": {
      "text/html": [
       "<div>\n",
       "<style scoped>\n",
       "    .dataframe tbody tr th:only-of-type {\n",
       "        vertical-align: middle;\n",
       "    }\n",
       "\n",
       "    .dataframe tbody tr th {\n",
       "        vertical-align: top;\n",
       "    }\n",
       "\n",
       "    .dataframe thead th {\n",
       "        text-align: right;\n",
       "    }\n",
       "</style>\n",
       "<table border=\"1\" class=\"dataframe\">\n",
       "  <thead>\n",
       "    <tr style=\"text-align: right;\">\n",
       "      <th></th>\n",
       "      <th>Actual</th>\n",
       "      <th>Predicted</th>\n",
       "    </tr>\n",
       "  </thead>\n",
       "  <tbody>\n",
       "    <tr>\n",
       "      <th>496</th>\n",
       "      <td>-74.090909</td>\n",
       "      <td>-74.047381</td>\n",
       "    </tr>\n",
       "    <tr>\n",
       "      <th>497</th>\n",
       "      <td>-74.181818</td>\n",
       "      <td>-74.060952</td>\n",
       "    </tr>\n",
       "    <tr>\n",
       "      <th>498</th>\n",
       "      <td>-74.090909</td>\n",
       "      <td>-73.984180</td>\n",
       "    </tr>\n",
       "    <tr>\n",
       "      <th>499</th>\n",
       "      <td>-74.181818</td>\n",
       "      <td>-74.034781</td>\n",
       "    </tr>\n",
       "    <tr>\n",
       "      <th>500</th>\n",
       "      <td>-75.000000</td>\n",
       "      <td>-74.738313</td>\n",
       "    </tr>\n",
       "    <tr>\n",
       "      <th>...</th>\n",
       "      <td>...</td>\n",
       "      <td>...</td>\n",
       "    </tr>\n",
       "    <tr>\n",
       "      <th>615</th>\n",
       "      <td>-70.363636</td>\n",
       "      <td>-71.076821</td>\n",
       "    </tr>\n",
       "    <tr>\n",
       "      <th>616</th>\n",
       "      <td>-70.181818</td>\n",
       "      <td>-70.987778</td>\n",
       "    </tr>\n",
       "    <tr>\n",
       "      <th>617</th>\n",
       "      <td>-70.454545</td>\n",
       "      <td>-71.139761</td>\n",
       "    </tr>\n",
       "    <tr>\n",
       "      <th>618</th>\n",
       "      <td>-70.363636</td>\n",
       "      <td>-71.114981</td>\n",
       "    </tr>\n",
       "    <tr>\n",
       "      <th>619</th>\n",
       "      <td>-70.272727</td>\n",
       "      <td>-70.988024</td>\n",
       "    </tr>\n",
       "  </tbody>\n",
       "</table>\n",
       "<p>124 rows × 2 columns</p>\n",
       "</div>"
      ],
      "text/plain": [
       "        Actual  Predicted\n",
       "496 -74.090909 -74.047381\n",
       "497 -74.181818 -74.060952\n",
       "498 -74.090909 -73.984180\n",
       "499 -74.181818 -74.034781\n",
       "500 -75.000000 -74.738313\n",
       "..         ...        ...\n",
       "615 -70.363636 -71.076821\n",
       "616 -70.181818 -70.987778\n",
       "617 -70.454545 -71.139761\n",
       "618 -70.363636 -71.114981\n",
       "619 -70.272727 -70.988024\n",
       "\n",
       "[124 rows x 2 columns]"
      ]
     },
     "execution_count": 146,
     "metadata": {},
     "output_type": "execute_result"
    }
   ],
   "source": [
    "df=pd.DataFrame({'Actual':y_test, 'Predicted':y_pred})\n",
    "df"
   ]
  },
  {
   "cell_type": "code",
   "execution_count": 147,
   "metadata": {},
   "outputs": [
    {
     "name": "stdout",
     "output_type": "stream",
     "text": [
      "Mean Absolute Error: 0.2971369976722368\n",
      "Mean Squared Error: 0.13196224354979916\n",
      "Root Mean Squared Error: 0.3632660781710827\n"
     ]
    }
   ],
   "source": [
    "from sklearn import metrics\n",
    "print('Mean Absolute Error:', metrics.mean_absolute_error(y_test, y_pred))\n",
    "print('Mean Squared Error:', metrics.mean_squared_error(y_test, y_pred))\n",
    "print('Root Mean Squared Error:', np.sqrt(metrics.mean_squared_error(y_test, y_pred)))\n"
   ]
  },
  {
   "cell_type": "code",
   "execution_count": 148,
   "metadata": {},
   "outputs": [
    {
     "data": {
      "image/png": "[encoded data removed]",
      "text/plain": [
       "<Figure size 432x288 with 1 Axes>"
      ]
     },
     "metadata": {
      "needs_background": "light"
     },
     "output_type": "display_data"
    }
   ],
   "source": [
    "plt.plot(df.Actual.index, df.Actual)\n",
    "plt.plot(df.Actual.index, df.Predicted)\n",
    "plt.show()"
   ]
  },
  {
   "cell_type": "code",
   "execution_count": null,
   "metadata": {},
   "outputs": [],
   "source": [
    "#This data is collected within x time, within 1 hour. Y Gb was occupied according to the size of the data. At k"
   ]
  }
 ],
 "metadata": {
  "kernelspec": {
   "display_name": "Python 3",
   "language": "python",
   "name": "python3"
  },
  "language_info": {
   "codemirror_mode": {
    "name": "ipython",
    "version": 3
   },
   "file_extension": ".py",
   "mimetype": "text/x-python",
   "name": "python",
   "nbconvert_exporter": "python",
   "pygments_lexer": "ipython3",
   "version": "3.7.6"
  }
 },
 "nbformat": 4,
 "nbformat_minor": 4
}
