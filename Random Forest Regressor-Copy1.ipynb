{
 "cells": [
  {
   "cell_type": "code",
   "execution_count": 5,
   "metadata": {},
   "outputs": [],
   "source": [
    "import numpy as np\n",
    "import pandas as pd\n",
    "from sklearn.model_selection import train_test_split\n",
    "from sklearn.model_selection import RandomizedSearchCV\n",
    "from sklearn.ensemble import RandomForestRegressor\n",
    "from sklearn.metrics import r2_score,mean_squared_error\n",
    "import seaborn as sns\n",
    "import matplotlib.pyplot as plt"
   ]
  },
  {
   "cell_type": "code",
   "execution_count": 6,
   "metadata": {},
   "outputs": [],
   "source": [
    "df = pd.read_csv('Test3_Full_Original.csv',\n",
    "            delimiter=',', names=['x', 'y', 'Magicv2', 'localization4', 'localizationlab', 'Magicv2_5g', 'UVIC_Eduroam1', 'UVIC_Eduroam2', 'localization3', 'localization_lab5g', 'localization1', 'localization4_5g', 'UVIC_Eduroam3', 'localization2', 'localization3_5g', 'UVIC_Eduroam4', 'localization1_5g'])\n",
    "df = df.loc[:,['x','y','Magicv2', 'localization4', 'localizationlab', 'Magicv2_5g', \n",
    "       'localization3', 'localization_lab5g', 'localization1', 'localization4_5g', 'localization2',\n",
    "       'localization3_5g', 'localization1_5g']]\n",
    "\n",
    "df['Average'] = (df.Magicv2 + df.localization4 + df.localizationlab + df.Magicv2_5g + df.localization3 + df.localization_lab5g + df.localization1 + df.localization4_5g + df.localization2 + df.localization3_5g + df.localization1_5g)/11"
   ]
  },
  {
   "cell_type": "code",
   "execution_count": 7,
   "metadata": {},
   "outputs": [],
   "source": [
    "X = df.drop('Average', axis = 1)\n",
    "y = df['Average']"
   ]
  },
  {
   "cell_type": "code",
   "execution_count": 4,
   "metadata": {},
   "outputs": [],
   "source": [
    "x_train, x_test, y_train, y_test = train_test_split(X, y, test_size=0.2, shuffle=False)\n"
   ]
  },
  {
   "cell_type": "code",
   "execution_count": 8,
   "metadata": {},
   "outputs": [],
   "source": [
    "# Number of trees in random forest\n",
    "n_estimators = [int(x) for x in np.linspace(start = 200, stop = 2000, num = 10)]\n",
    "# Number of features to consider at every split\n",
    "max_features = ['auto', 'sqrt']\n",
    "# Maximum number of levels in tree\n",
    "max_depth = [int(x) for x in np.linspace(10, 110, num = 11)]\n",
    "max_depth.append(None)\n",
    "# Minimum number of samples required to split a node\n",
    "min_samples_split = [2, 5, 10]\n",
    "# Minimum number of samples required at each leaf node\n",
    "min_samples_leaf = [1, 2, 4]\n",
    "# Method of selecting samples for training each tree\n",
    "bootstrap = [True, False]"
   ]
  },
  {
   "cell_type": "code",
   "execution_count": null,
   "metadata": {},
   "outputs": [],
   "source": [
    "# Create the random grid\n",
    "random_grid = {'n_estimators': n_estimators,\n",
    "               'max_features': max_features,\n",
    "               'max_depth': max_depth,\n",
    "               'min_samples_split': min_samples_split,\n",
    "               'min_samples_leaf': min_samples_leaf,\n",
    "               'bootstrap': bootstrap}"
   ]
  },
  {
   "cell_type": "code",
   "execution_count": 9,
   "metadata": {},
   "outputs": [
    {
     "name": "stdout",
     "output_type": "stream",
     "text": [
      "{'bootstrap': [True, False],\n",
      " 'max_depth': [10, 20, 30, 40, 50, 60, 70, 80, 90, 100, 110, None],\n",
      " 'max_features': ['auto', 'sqrt'],\n",
      " 'min_samples_leaf': [1, 2, 4],\n",
      " 'min_samples_split': [2, 5, 10],\n",
      " 'n_estimators': [200, 400, 600, 800, 1000, 1200, 1400, 1600, 1800, 2000]}\n"
     ]
    }
   ],
   "source": [
    "from pprint import pprint\n",
    "# Create the random grid\n",
    "random_grid = {'n_estimators': n_estimators,\n",
    "               'max_features': max_features,\n",
    "               'max_depth': max_depth,\n",
    "               'min_samples_split': min_samples_split,\n",
    "               'min_samples_leaf': min_samples_leaf,\n",
    "               'bootstrap': bootstrap}\n",
    "pprint(random_grid)"
   ]
  },
  {
   "cell_type": "code",
   "execution_count": 10,
   "metadata": {},
   "outputs": [
    {
     "name": "stdout",
     "output_type": "stream",
     "text": [
      "Fitting 3 folds for each of 100 candidates, totalling 300 fits\n"
     ]
    },
    {
     "name": "stderr",
     "output_type": "stream",
     "text": [
      "[Parallel(n_jobs=-1)]: Using backend LokyBackend with 6 concurrent workers.\n",
      "[Parallel(n_jobs=-1)]: Done  29 tasks      | elapsed:   12.0s\n",
      "[Parallel(n_jobs=-1)]: Done 150 tasks      | elapsed:   46.3s\n",
      "[Parallel(n_jobs=-1)]: Done 300 out of 300 | elapsed:  1.6min finished\n"
     ]
    },
    {
     "data": {
      "text/plain": [
       "RandomizedSearchCV(cv=3, error_score=nan,\n",
       "                   estimator=RandomForestRegressor(bootstrap=True,\n",
       "                                                   ccp_alpha=0.0,\n",
       "                                                   criterion='mse',\n",
       "                                                   max_depth=None,\n",
       "                                                   max_features='auto',\n",
       "                                                   max_leaf_nodes=None,\n",
       "                                                   max_samples=None,\n",
       "                                                   min_impurity_decrease=0.0,\n",
       "                                                   min_impurity_split=None,\n",
       "                                                   min_samples_leaf=1,\n",
       "                                                   min_samples_split=2,\n",
       "                                                   min_weight_fraction_leaf=0.0,\n",
       "                                                   n_estimators=100,\n",
       "                                                   n_jobs=None, oob_score=Fals...\n",
       "                   param_distributions={'bootstrap': [True, False],\n",
       "                                        'max_depth': [10, 20, 30, 40, 50, 60,\n",
       "                                                      70, 80, 90, 100, 110,\n",
       "                                                      None],\n",
       "                                        'max_features': ['auto', 'sqrt'],\n",
       "                                        'min_samples_leaf': [1, 2, 4],\n",
       "                                        'min_samples_split': [2, 5, 10],\n",
       "                                        'n_estimators': [200, 400, 600, 800,\n",
       "                                                         1000, 1200, 1400, 1600,\n",
       "                                                         1800, 2000]},\n",
       "                   pre_dispatch='2*n_jobs', random_state=42, refit=True,\n",
       "                   return_train_score=False, scoring=None, verbose=2)"
      ]
     },
     "execution_count": 10,
     "metadata": {},
     "output_type": "execute_result"
    }
   ],
   "source": [
    "# Use the random grid to search for best hyperparameters\n",
    "# First create the base model to tune\n",
    "RandomForestRegModel = RandomForestRegressor()\n",
    "# Random search of parameters, using 3 fold cross validation, \n",
    "# search across 100 different combinations, and use all available cores\n",
    "rf_random = RandomizedSearchCV(estimator = RandomForestRegModel, param_distributions = random_grid, n_iter = 100, cv = 3, verbose=2, random_state=42, n_jobs = -1)\n",
    "# Fit the random search model\n",
    "rf_random.fit(x_train, y_train)"
   ]
  },
  {
   "cell_type": "code",
   "execution_count": 11,
   "metadata": {},
   "outputs": [
    {
     "data": {
      "text/plain": [
       "{'n_estimators': 2000,\n",
       " 'min_samples_split': 10,\n",
       " 'min_samples_leaf': 4,\n",
       " 'max_features': 'auto',\n",
       " 'max_depth': 100,\n",
       " 'bootstrap': False}"
      ]
     },
     "execution_count": 11,
     "metadata": {},
     "output_type": "execute_result"
    }
   ],
   "source": [
    "rf_random.best_params_"
   ]
  },
  {
   "cell_type": "code",
   "execution_count": 36,
   "metadata": {},
   "outputs": [
    {
     "data": {
      "text/plain": [
       "RandomForestRegressor(bootstrap=True, ccp_alpha=0.0, criterion='mse',\n",
       "                      max_depth=10, max_features='auto', max_leaf_nodes=None,\n",
       "                      max_samples=None, min_impurity_decrease=0.0,\n",
       "                      min_impurity_split=None, min_samples_leaf=4,\n",
       "                      min_samples_split=5, min_weight_fraction_leaf=0.0,\n",
       "                      n_estimators=600, n_jobs=None, oob_score=False,\n",
       "                      random_state=None, verbose=0, warm_start=False)"
      ]
     },
     "execution_count": 36,
     "metadata": {},
     "output_type": "execute_result"
    }
   ],
   "source": [
    "RandomForestRegModel = RandomForestRegressor(n_estimators = 600, min_samples_split = 5, min_samples_leaf = 4, max_features = \"auto\", max_depth = 10, bootstrap = True)\n",
    "RandomForestRegModel.fit(x_train, y_train)"
   ]
  },
  {
   "cell_type": "code",
   "execution_count": 37,
   "metadata": {},
   "outputs": [
    {
     "data": {
      "text/plain": [
       "array([-74.43016413, -74.43588211, -74.37795952, -74.1146324 ,\n",
       "       -74.73180177, -75.77329979, -75.80172989, -75.78055236,\n",
       "       -75.7805235 , -75.74138594, -75.76491589, -75.7655472 ,\n",
       "       -75.76481127, -75.78100448, -75.80290632, -75.78125943,\n",
       "       -75.78383738, -74.77864793, -74.77806923, -74.77806923,\n",
       "       -74.36481899, -74.76288391, -74.7693502 , -74.76759936,\n",
       "       -76.16523606, -74.00865346, -73.84868648, -73.84868648,\n",
       "       -73.82287942, -73.82287942, -74.11867686, -74.11867686,\n",
       "       -74.11867686, -73.83492094, -73.84475778, -73.84489631,\n",
       "       -74.88043604, -74.64552743, -74.02514481, -74.02635272,\n",
       "       -74.02635272, -73.83816001, -73.83816001, -73.83619091,\n",
       "       -74.04396267, -74.09160637, -74.0258355 , -74.02379005,\n",
       "       -73.98148315, -73.91293256, -73.93850168, -73.99692781,\n",
       "       -73.98594235, -74.74334066, -73.77575552, -73.74835341,\n",
       "       -73.91893679, -73.75075336, -73.79829246, -73.75075336,\n",
       "       -73.75075336, -73.75345348, -74.01439068, -73.97317662,\n",
       "       -76.13867368, -76.13398662, -76.13285927, -74.1433845 ,\n",
       "       -74.05958491, -74.02424655, -74.02424655, -74.17270187,\n",
       "       -74.07266461, -74.07101271, -74.05958491, -74.06342053,\n",
       "       -74.06791146, -74.15126167, -74.15126167, -74.15126167,\n",
       "       -74.15126167, -74.15126167, -74.14787543, -74.14787543,\n",
       "       -74.16221962, -76.13380541, -76.13380541, -76.13380541,\n",
       "       -76.13364759, -76.13364759, -74.18441522, -74.18441522,\n",
       "       -74.18441522, -74.18441522, -74.19631889, -74.18441522,\n",
       "       -74.18441522, -74.18789124, -74.18471825, -74.05307884,\n",
       "       -74.18306697, -74.17974247, -74.16887234, -74.16887234,\n",
       "       -74.24500409, -76.13255547, -74.07293937, -74.07293937,\n",
       "       -74.07293937, -74.07293937, -74.10088212, -74.13714314,\n",
       "       -74.13166573, -74.09592664, -74.09592664, -74.11590125,\n",
       "       -74.04454084, -74.11590125, -74.07215054, -74.04454084,\n",
       "       -74.05930683, -74.05930683, -74.05930683, -74.02155357])"
      ]
     },
     "execution_count": 37,
     "metadata": {},
     "output_type": "execute_result"
    }
   ],
   "source": [
    "y_pred = RandomForestRegModel.predict(x_test)\n",
    "y_pred"
   ]
  },
  {
   "cell_type": "code",
   "execution_count": 38,
   "metadata": {},
   "outputs": [
    {
     "data": {
      "text/plain": [
       "1.9413890625537957"
      ]
     },
     "execution_count": 38,
     "metadata": {},
     "output_type": "execute_result"
    }
   ],
   "source": [
    "mse = mean_squared_error(y_test, y_pred)\n",
    "rmse = np.sqrt(mse)\n",
    "rmse"
   ]
  },
  {
   "cell_type": "code",
   "execution_count": 39,
   "metadata": {},
   "outputs": [
    {
     "data": {
      "text/html": [
       "<div>\n",
       "<style scoped>\n",
       "    .dataframe tbody tr th:only-of-type {\n",
       "        vertical-align: middle;\n",
       "    }\n",
       "\n",
       "    .dataframe tbody tr th {\n",
       "        vertical-align: top;\n",
       "    }\n",
       "\n",
       "    .dataframe thead th {\n",
       "        text-align: right;\n",
       "    }\n",
       "</style>\n",
       "<table border=\"1\" class=\"dataframe\">\n",
       "  <thead>\n",
       "    <tr style=\"text-align: right;\">\n",
       "      <th></th>\n",
       "      <th>Actual</th>\n",
       "      <th>Predicted</th>\n",
       "    </tr>\n",
       "  </thead>\n",
       "  <tbody>\n",
       "    <tr>\n",
       "      <th>496</th>\n",
       "      <td>-74.090909</td>\n",
       "      <td>-74.430164</td>\n",
       "    </tr>\n",
       "    <tr>\n",
       "      <th>497</th>\n",
       "      <td>-74.181818</td>\n",
       "      <td>-74.435882</td>\n",
       "    </tr>\n",
       "    <tr>\n",
       "      <th>498</th>\n",
       "      <td>-74.090909</td>\n",
       "      <td>-74.377960</td>\n",
       "    </tr>\n",
       "    <tr>\n",
       "      <th>499</th>\n",
       "      <td>-74.181818</td>\n",
       "      <td>-74.114632</td>\n",
       "    </tr>\n",
       "    <tr>\n",
       "      <th>500</th>\n",
       "      <td>-75.000000</td>\n",
       "      <td>-74.731802</td>\n",
       "    </tr>\n",
       "    <tr>\n",
       "      <th>...</th>\n",
       "      <td>...</td>\n",
       "      <td>...</td>\n",
       "    </tr>\n",
       "    <tr>\n",
       "      <th>615</th>\n",
       "      <td>-70.363636</td>\n",
       "      <td>-74.044541</td>\n",
       "    </tr>\n",
       "    <tr>\n",
       "      <th>616</th>\n",
       "      <td>-70.181818</td>\n",
       "      <td>-74.059307</td>\n",
       "    </tr>\n",
       "    <tr>\n",
       "      <th>617</th>\n",
       "      <td>-70.454545</td>\n",
       "      <td>-74.059307</td>\n",
       "    </tr>\n",
       "    <tr>\n",
       "      <th>618</th>\n",
       "      <td>-70.363636</td>\n",
       "      <td>-74.059307</td>\n",
       "    </tr>\n",
       "    <tr>\n",
       "      <th>619</th>\n",
       "      <td>-70.272727</td>\n",
       "      <td>-74.021554</td>\n",
       "    </tr>\n",
       "  </tbody>\n",
       "</table>\n",
       "<p>124 rows × 2 columns</p>\n",
       "</div>"
      ],
      "text/plain": [
       "        Actual  Predicted\n",
       "496 -74.090909 -74.430164\n",
       "497 -74.181818 -74.435882\n",
       "498 -74.090909 -74.377960\n",
       "499 -74.181818 -74.114632\n",
       "500 -75.000000 -74.731802\n",
       "..         ...        ...\n",
       "615 -70.363636 -74.044541\n",
       "616 -70.181818 -74.059307\n",
       "617 -70.454545 -74.059307\n",
       "618 -70.363636 -74.059307\n",
       "619 -70.272727 -74.021554\n",
       "\n",
       "[124 rows x 2 columns]"
      ]
     },
     "execution_count": 39,
     "metadata": {},
     "output_type": "execute_result"
    }
   ],
   "source": [
    "df=pd.DataFrame({'Actual':y_test, 'Predicted':y_pred})\n",
    "df"
   ]
  },
  {
   "cell_type": "code",
   "execution_count": 40,
   "metadata": {},
   "outputs": [
    {
     "name": "stdout",
     "output_type": "stream",
     "text": [
      "Mean Absolute Error: 1.5749787865863143\n",
      "Mean Squared Error: 3.7689914922035057\n",
      "Root Mean Squared Error: 1.9413890625537957\n"
     ]
    }
   ],
   "source": [
    "from sklearn import metrics\n",
    "print('Mean Absolute Error:', metrics.mean_absolute_error(y_test, y_pred))\n",
    "print('Mean Squared Error:', metrics.mean_squared_error(y_test, y_pred))\n",
    "print('Root Mean Squared Error:', np.sqrt(metrics.mean_squared_error(y_test, y_pred)))\n"
   ]
  },
  {
   "cell_type": "code",
   "execution_count": 41,
   "metadata": {},
   "outputs": [
    {
     "data": {
      "image/png": "[encoded data removed]",
      "text/plain": [
       "<Figure size 432x288 with 1 Axes>"
      ]
     },
     "metadata": {
      "needs_background": "light"
     },
     "output_type": "display_data"
    }
   ],
   "source": [
    "plt.plot(df.Actual.index, df.Actual)\n",
    "plt.plot(df.Actual.index, df.Predicted)\n",
    "\n",
    "plt.show()"
   ]
  },
  {
   "cell_type": "code",
   "execution_count": 42,
   "metadata": {},
   "outputs": [
    {
     "name": "stdout",
     "output_type": "stream",
     "text": [
      "Fitting 5 folds for each of 13 candidates, totalling 65 fits\n"
     ]
    },
    {
     "name": "stderr",
     "output_type": "stream",
     "text": [
      "[Parallel(n_jobs=-1)]: Using backend LokyBackend with 6 concurrent workers.\n",
      "[Parallel(n_jobs=-1)]: Done  29 tasks      | elapsed:   13.5s\n",
      "[Parallel(n_jobs=-1)]: Done  65 out of  65 | elapsed:   29.5s finished\n"
     ]
    },
    {
     "data": {
      "text/plain": [
       "RandomizedSearchCV(cv=None, error_score=nan,\n",
       "                   estimator=RandomForestRegressor(bootstrap=True,\n",
       "                                                   ccp_alpha=0.0,\n",
       "                                                   criterion='mse',\n",
       "                                                   max_depth=None,\n",
       "                                                   max_features='auto',\n",
       "                                                   max_leaf_nodes=None,\n",
       "                                                   max_samples=None,\n",
       "                                                   min_impurity_decrease=0.0,\n",
       "                                                   min_impurity_split=None,\n",
       "                                                   min_samples_leaf=1,\n",
       "                                                   min_samples_split=2,\n",
       "                                                   min_weight_fraction_leaf=0.0,\n",
       "                                                   n_estimators=100,\n",
       "                                                   n_jobs=None, oob_score=F...\n",
       "                   param_distributions={'bootstrap': [True, False],\n",
       "                                        'max_depth': [10, 20, 30, 40, 50, 60,\n",
       "                                                      70, 80, 90, 100, 110,\n",
       "                                                      None],\n",
       "                                        'max_features': ['auto', 'sqrt'],\n",
       "                                        'min_samples_leaf': [1, 2, 4],\n",
       "                                        'min_samples_split': [2, 5, 10],\n",
       "                                        'n_estimators': [200, 400, 600, 800,\n",
       "                                                         1000, 1200, 1400, 1600,\n",
       "                                                         1800, 2000]},\n",
       "                   pre_dispatch='2*n_jobs', random_state=None, refit=True,\n",
       "                   return_train_score=False, scoring=None, verbose=2)"
      ]
     },
     "execution_count": 42,
     "metadata": {},
     "output_type": "execute_result"
    }
   ],
   "source": [
    "# Use the random grid to search for best hyperparameters\n",
    "# First create the base model to tune\n",
    "Fullmodel = RandomForestRegressor()\n",
    "# Random search of parameters, using 3 fold cross validation, \n",
    "# search across 100 different combinations, and use all available cores\n",
    "rf_random = RandomizedSearchCV(estimator = Fullmodel, param_distributions = random_grid, n_iter = 13, verbose=2,n_jobs = -1)\n",
    "# Fit the random search model\n",
    "rf_random.fit(X, y)"
   ]
  },
  {
   "cell_type": "code",
   "execution_count": 43,
   "metadata": {},
   "outputs": [
    {
     "data": {
      "text/plain": [
       "{'n_estimators': 1200,\n",
       " 'min_samples_split': 2,\n",
       " 'min_samples_leaf': 1,\n",
       " 'max_features': 'sqrt',\n",
       " 'max_depth': 100,\n",
       " 'bootstrap': False}"
      ]
     },
     "execution_count": 43,
     "metadata": {},
     "output_type": "execute_result"
    }
   ],
   "source": [
    "rf_random.best_params_"
   ]
  },
  {
   "cell_type": "code",
   "execution_count": 81,
   "metadata": {},
   "outputs": [
    {
     "data": {
      "text/plain": [
       "RandomForestRegressor(bootstrap=False, ccp_alpha=0.0, criterion='mse',\n",
       "                      max_depth=100, max_features='sqrt', max_leaf_nodes=None,\n",
       "                      max_samples=None, min_impurity_decrease=0.0,\n",
       "                      min_impurity_split=None, min_samples_leaf=5,\n",
       "                      min_samples_split=2, min_weight_fraction_leaf=0.0,\n",
       "                      n_estimators=1200, n_jobs=None, oob_score=False,\n",
       "                      random_state=None, verbose=0, warm_start=False)"
      ]
     },
     "execution_count": 81,
     "metadata": {},
     "output_type": "execute_result"
    }
   ],
   "source": [
    "RandomForestRegModel = RandomForestRegressor(n_estimators = 1200, min_samples_split = 2, min_samples_leaf = 5, max_features = \"sqrt\", max_depth = 100, bootstrap = False)\n",
    "RandomForestRegModel.fit(X, y)"
   ]
  },
  {
   "cell_type": "code",
   "execution_count": 82,
   "metadata": {},
   "outputs": [
    {
     "data": {
      "text/plain": [
       "array([-65.81100194, -65.26854284, -65.19166988, -65.31546262,\n",
       "       -65.57551266, -65.12827047, -65.28221282, -65.37261333,\n",
       "       -65.12536334, -64.9443374 , -66.34192504, -67.02737695,\n",
       "       -64.78504485, -63.8023097 , -63.81550161, -63.63781267,\n",
       "       -63.65435272, -63.6528418 , -63.615548  , -63.79501261,\n",
       "       -67.41375915, -66.76322508, -66.71886269, -67.18841021,\n",
       "       -67.04612193, -66.6693313 , -66.5538998 , -66.6762125 ,\n",
       "       -66.41061144, -66.41171896, -66.41510507, -66.39020777,\n",
       "       -66.73470084, -66.20195435, -66.89357621, -66.6788832 ,\n",
       "       -66.82989538, -66.9821757 , -66.88294185, -66.99896859,\n",
       "       -67.77577757, -67.7802881 , -67.75258181, -67.62222601,\n",
       "       -67.55376617, -67.57038592, -67.26127081, -67.2830831 ,\n",
       "       -67.25555109, -67.61822025, -69.28497123, -69.27491459,\n",
       "       -68.79031394, -68.69504312, -69.86913558, -68.94488899,\n",
       "       -67.81488483, -68.01411207, -67.38658363, -67.61365837,\n",
       "       -67.8967622 , -67.85889348, -67.99529199, -68.34468603,\n",
       "       -68.1824461 , -67.86714669, -67.86714669, -67.88527935,\n",
       "       -67.82217945, -67.87737515, -67.82151098, -67.85037256,\n",
       "       -67.86013125, -68.055691  , -67.94829106, -67.92247445,\n",
       "       -68.10148327, -68.15233525, -68.03977217, -68.06638922,\n",
       "       -71.31416343, -72.53135814, -71.42596775, -71.45818905,\n",
       "       -71.4718555 , -71.21394477, -71.03762168, -71.10715196,\n",
       "       -71.03762168, -72.29536121, -72.25792182, -72.33153087,\n",
       "       -72.33153087, -72.34253008, -72.27351507, -70.40653397,\n",
       "       -70.40653397, -70.62739386, -71.33484671, -71.143336  ,\n",
       "       -69.25702483, -70.65996979, -70.6640169 , -70.75084384,\n",
       "       -70.80860259, -71.29789262, -69.54711817, -69.51167   ,\n",
       "       -69.60479614, -69.56942001, -69.55428438, -69.46114114,\n",
       "       -69.60697562, -69.5420748 , -69.60162921, -70.87272842,\n",
       "       -70.82693714, -70.87962666, -70.90798827, -70.87982539,\n",
       "       -70.40068315, -70.3637997 , -70.31032653, -70.17056626,\n",
       "       -70.38584397, -69.12672175, -69.01635631, -68.98373954,\n",
       "       -68.89925573, -68.67696349, -68.68223215, -68.5101727 ,\n",
       "       -69.99319947, -70.32935211, -68.6459646 , -68.6459646 ,\n",
       "       -68.6541679 , -68.63092036, -68.92510557, -68.94744983,\n",
       "       -68.75357074, -68.7064821 , -68.7371094 , -68.82385378,\n",
       "       -68.66053658, -69.30264356, -69.0431092 , -69.30977315,\n",
       "       -68.99778927, -68.98628243, -68.91094993, -68.98208337,\n",
       "       -69.151904  , -68.97628717, -69.1564788 , -68.88697802,\n",
       "       -69.24203249, -68.88378232, -69.00413269, -68.8950344 ,\n",
       "       -69.51583603, -69.64250924, -69.95201133, -69.9291553 ,\n",
       "       -69.5225668 , -70.22306193, -70.14344583, -70.29082966,\n",
       "       -70.2328127 , -69.85601929, -70.2328127 , -69.81287978,\n",
       "       -70.25721171, -70.22640641, -69.91517663, -69.94097882,\n",
       "       -69.5310787 , -69.80052221, -69.62511156, -69.58640581,\n",
       "       -68.70306422, -68.69978775, -68.71433226, -68.71433226,\n",
       "       -69.12830979, -69.30066856, -69.40082132, -68.67534913,\n",
       "       -69.92623412, -69.66332187, -69.96558086, -69.24736702,\n",
       "       -69.04624176, -68.9481058 , -68.81714245, -68.5574872 ,\n",
       "       -68.4243577 , -68.7162055 , -68.40750769, -68.49627294,\n",
       "       -68.25496385, -68.16962861, -68.1152197 , -68.11600195,\n",
       "       -67.8584224 , -67.86346274, -67.88942683, -67.89008617,\n",
       "       -67.92653442, -68.01016868, -67.82150205, -67.79467425,\n",
       "       -67.81151067, -67.81661827, -67.81661827, -70.00897873,\n",
       "       -70.050859  , -70.07603656, -70.10143511, -70.09077935,\n",
       "       -69.93560057, -70.27063625, -70.27708496, -70.1577027 ,\n",
       "       -70.31565226, -70.20765718, -70.30683856, -70.31074986,\n",
       "       -70.31502087, -70.21863731, -70.21940441, -70.21940441,\n",
       "       -70.30418964, -70.30418964, -70.25169111, -70.39086268,\n",
       "       -70.28701851, -70.46528427, -70.47069147, -70.47069147,\n",
       "       -69.95659587, -69.77144802, -69.64870325, -69.67010852,\n",
       "       -69.33284161, -69.69711932, -69.59506867, -69.70341089,\n",
       "       -69.53417644, -69.62465417, -69.48314764, -69.66843294,\n",
       "       -69.6815831 , -69.72083149, -69.75104779, -69.45442279,\n",
       "       -69.13896859, -69.65264651, -69.55401824, -69.44081169,\n",
       "       -69.15987073, -69.26213484, -68.98556143, -69.73668497,\n",
       "       -69.52856637, -69.04398685, -68.75389135, -71.14557322,\n",
       "       -71.13994466, -70.95380228, -68.70688689, -68.63980171,\n",
       "       -68.72808561, -68.61298582, -68.58136985, -68.50963336,\n",
       "       -68.45672879, -71.0731005 , -71.08295119, -71.14716204,\n",
       "       -68.59714698, -69.70290569, -69.3532044 , -69.36661452,\n",
       "       -69.30666491, -69.24493959, -69.19713465, -69.1170537 ,\n",
       "       -69.33754884, -69.34071259, -69.30123544, -69.24214376,\n",
       "       -69.05646721, -69.14160319, -69.04983358, -69.20552604,\n",
       "       -69.13577382, -69.32468291, -71.15922441, -69.21541525,\n",
       "       -67.8142879 , -67.68190029, -67.60331561, -67.56053458,\n",
       "       -67.53322881, -67.49724798, -67.48117449, -67.49054285,\n",
       "       -67.63707627, -67.58307215, -67.73232759, -67.91897775,\n",
       "       -67.87250609, -67.95347836, -67.98317546, -69.45333467,\n",
       "       -69.45304895, -69.43581916, -67.77802998, -67.62448493,\n",
       "       -69.19175223, -69.20676216, -69.36580804, -69.88605062,\n",
       "       -69.60720443, -69.75676105, -69.5801898 , -69.47484208,\n",
       "       -69.54212748, -69.92039855, -70.19143107, -70.17054788,\n",
       "       -69.92877086, -70.1851273 , -69.77350006, -70.13164134,\n",
       "       -69.68136827, -69.79618515, -69.7924571 , -69.78769747,\n",
       "       -70.34415149, -70.37485235, -70.28297158, -70.24784034,\n",
       "       -70.11377142, -70.3790801 , -70.41604879, -70.40592417,\n",
       "       -70.35004554, -70.34840215, -70.35950078, -70.15104008,\n",
       "       -70.15397916, -70.09365313, -70.3352613 , -70.25149687,\n",
       "       -70.14174658, -70.22543977, -70.27410318, -70.19111984,\n",
       "       -71.99653688, -72.07075072, -72.14306314, -72.11145045,\n",
       "       -72.19616575, -72.48607311, -72.21845416, -72.99704551,\n",
       "       -72.90903982, -72.48607311, -72.14604318, -72.12485721,\n",
       "       -72.12485721, -73.33837991, -72.25315712, -72.11564203,\n",
       "       -72.11564203, -72.10584516, -72.06348385, -72.33882625,\n",
       "       -72.11896961, -72.6593374 , -72.06538934, -71.95351488,\n",
       "       -71.95462743, -72.05768987, -72.0572328 , -72.0207987 ,\n",
       "       -71.94660491, -71.96375844, -72.06299153, -72.15120356,\n",
       "       -72.0798282 , -72.15120356, -72.17779681, -72.09949686,\n",
       "       -72.43719469, -72.28623813, -72.36621585, -72.06091171,\n",
       "       -74.25655913, -73.90605454, -73.85890119, -73.54148886,\n",
       "       -73.66728441, -73.68684728, -73.79286527, -73.79286527,\n",
       "       -73.64144913, -73.71538115, -74.92821791, -74.8413684 ,\n",
       "       -75.37713604, -73.78245526, -73.66229754, -73.54523489,\n",
       "       -73.60611424, -73.59993179, -73.59993179, -73.7935513 ,\n",
       "       -71.74923109, -71.64800593, -71.55758813, -71.60068888,\n",
       "       -71.42424828, -71.42293545, -71.26745558, -71.27435096,\n",
       "       -71.27401876, -71.36344181, -71.31257392, -71.32492804,\n",
       "       -71.36344181, -71.36344181, -71.22625704, -71.22625704,\n",
       "       -71.30451246, -71.29033011, -71.34318309, -71.357386  ,\n",
       "       -73.3545365 , -73.27485684, -72.06246179, -72.05871886,\n",
       "       -72.10008945, -72.10246213, -71.97961278, -71.96941705,\n",
       "       -72.01381649, -72.06939008, -72.0505185 , -72.20353237,\n",
       "       -72.1790723 , -72.47449163, -72.41802761, -72.45056374,\n",
       "       -72.44050441, -72.41679969, -72.44260253, -74.36268313,\n",
       "       -74.0339282 , -74.3721229 , -74.27410822, -74.22324094,\n",
       "       -74.26018697, -74.14677214, -74.044944  , -74.02357918,\n",
       "       -74.0447499 , -74.02898222, -74.02898222, -73.90816752,\n",
       "       -73.99644182, -74.25435112, -74.18330344, -74.14061736,\n",
       "       -74.08824105, -74.15591349, -74.18959819, -74.21104442,\n",
       "       -74.50568223, -74.59168976, -74.82480163, -74.1444181 ,\n",
       "       -74.36919442, -74.27220264, -74.26722966, -74.46148713,\n",
       "       -76.11096175, -76.04206676, -75.95815985, -75.98432199,\n",
       "       -76.15682308, -76.12011243, -76.05294252, -74.52194648,\n",
       "       -74.46763597, -74.26703792, -74.17496295, -74.21226069,\n",
       "       -74.86848146, -75.32416509, -75.42297012, -75.36379502,\n",
       "       -74.95813248, -74.74348665, -74.81886617, -74.76861752,\n",
       "       -74.84769928, -74.83452773, -74.68755921, -74.79979108,\n",
       "       -75.07702929, -74.70266274, -74.69249324, -74.69249324,\n",
       "       -74.34948935, -74.52939822, -74.38152904, -74.46733531,\n",
       "       -75.25703125, -73.67595906, -73.51564414, -73.46976484,\n",
       "       -73.35344939, -73.35344939, -73.75941999, -73.75941999,\n",
       "       -73.7137189 , -73.53135584, -73.62296726, -73.60473025,\n",
       "       -74.27595081, -74.26113331, -73.84711239, -73.7935286 ,\n",
       "       -73.7935286 , -73.69013843, -73.68837684, -73.51721642,\n",
       "       -72.96422186, -73.10147462, -72.46804595, -72.58612831,\n",
       "       -72.5054819 , -72.29021465, -72.47448175, -72.39460663,\n",
       "       -72.38200236, -73.70885884, -72.58581783, -72.54151004,\n",
       "       -72.81342589, -72.72762261, -72.8873079 , -72.72762261,\n",
       "       -72.64230636, -72.69730485, -72.83726753, -72.72907854,\n",
       "       -74.08610864, -73.87711162, -73.91648709, -72.47681804,\n",
       "       -72.32464535, -72.3586638 , -72.15624399, -72.60759669,\n",
       "       -72.38004791, -72.40820506, -72.42030613, -72.49196178,\n",
       "       -72.58735946, -72.69904363, -72.69904363, -72.66473108,\n",
       "       -72.66473108, -72.66473108, -72.59647806, -72.40076766,\n",
       "       -72.33248388, -73.85666191, -73.95601524, -73.96401598,\n",
       "       -74.02806087, -73.98233161, -72.25658572, -71.82271443,\n",
       "       -71.90376045, -71.82271443, -71.79084357, -71.78110496,\n",
       "       -71.78110496, -71.69273832, -71.78697436, -71.87382778,\n",
       "       -72.11584666, -71.85646418, -71.94170557, -71.93735113,\n",
       "       -72.22375077, -72.72930341, -70.46457907, -70.39201012,\n",
       "       -70.46652349, -70.34986044, -70.60862442, -70.80752823,\n",
       "       -70.58408556, -70.43903307, -70.4843629 , -71.02445867,\n",
       "       -70.66114371, -71.03835357, -70.76638286, -70.47943897,\n",
       "       -70.53142981, -70.56952533, -70.53094818, -70.43405855])"
      ]
     },
     "execution_count": 82,
     "metadata": {},
     "output_type": "execute_result"
    }
   ],
   "source": [
    "y_pred = RandomForestRegModel.predict(X)\n",
    "y_pred"
   ]
  },
  {
   "cell_type": "code",
   "execution_count": 83,
   "metadata": {},
   "outputs": [
    {
     "data": {
      "text/plain": [
       "0.3677927080123295"
      ]
     },
     "execution_count": 83,
     "metadata": {},
     "output_type": "execute_result"
    }
   ],
   "source": [
    "mse = mean_squared_error(y, y_pred)\n",
    "rmse = np.sqrt(mse)\n",
    "rmse"
   ]
  },
  {
   "cell_type": "code",
   "execution_count": 84,
   "metadata": {},
   "outputs": [
    {
     "data": {
      "text/html": [
       "<div>\n",
       "<style scoped>\n",
       "    .dataframe tbody tr th:only-of-type {\n",
       "        vertical-align: middle;\n",
       "    }\n",
       "\n",
       "    .dataframe tbody tr th {\n",
       "        vertical-align: top;\n",
       "    }\n",
       "\n",
       "    .dataframe thead th {\n",
       "        text-align: right;\n",
       "    }\n",
       "</style>\n",
       "<table border=\"1\" class=\"dataframe\">\n",
       "  <thead>\n",
       "    <tr style=\"text-align: right;\">\n",
       "      <th></th>\n",
       "      <th>Actual</th>\n",
       "      <th>Predicted</th>\n",
       "    </tr>\n",
       "  </thead>\n",
       "  <tbody>\n",
       "    <tr>\n",
       "      <th>0</th>\n",
       "      <td>-66.181818</td>\n",
       "      <td>-65.811002</td>\n",
       "    </tr>\n",
       "    <tr>\n",
       "      <th>1</th>\n",
       "      <td>-65.636364</td>\n",
       "      <td>-65.268543</td>\n",
       "    </tr>\n",
       "    <tr>\n",
       "      <th>2</th>\n",
       "      <td>-64.909091</td>\n",
       "      <td>-65.191670</td>\n",
       "    </tr>\n",
       "    <tr>\n",
       "      <th>3</th>\n",
       "      <td>-65.272727</td>\n",
       "      <td>-65.315463</td>\n",
       "    </tr>\n",
       "    <tr>\n",
       "      <th>4</th>\n",
       "      <td>-65.545455</td>\n",
       "      <td>-65.575513</td>\n",
       "    </tr>\n",
       "    <tr>\n",
       "      <th>...</th>\n",
       "      <td>...</td>\n",
       "      <td>...</td>\n",
       "    </tr>\n",
       "    <tr>\n",
       "      <th>615</th>\n",
       "      <td>-70.363636</td>\n",
       "      <td>-70.479439</td>\n",
       "    </tr>\n",
       "    <tr>\n",
       "      <th>616</th>\n",
       "      <td>-70.181818</td>\n",
       "      <td>-70.531430</td>\n",
       "    </tr>\n",
       "    <tr>\n",
       "      <th>617</th>\n",
       "      <td>-70.454545</td>\n",
       "      <td>-70.569525</td>\n",
       "    </tr>\n",
       "    <tr>\n",
       "      <th>618</th>\n",
       "      <td>-70.363636</td>\n",
       "      <td>-70.530948</td>\n",
       "    </tr>\n",
       "    <tr>\n",
       "      <th>619</th>\n",
       "      <td>-70.272727</td>\n",
       "      <td>-70.434059</td>\n",
       "    </tr>\n",
       "  </tbody>\n",
       "</table>\n",
       "<p>620 rows × 2 columns</p>\n",
       "</div>"
      ],
      "text/plain": [
       "        Actual  Predicted\n",
       "0   -66.181818 -65.811002\n",
       "1   -65.636364 -65.268543\n",
       "2   -64.909091 -65.191670\n",
       "3   -65.272727 -65.315463\n",
       "4   -65.545455 -65.575513\n",
       "..         ...        ...\n",
       "615 -70.363636 -70.479439\n",
       "616 -70.181818 -70.531430\n",
       "617 -70.454545 -70.569525\n",
       "618 -70.363636 -70.530948\n",
       "619 -70.272727 -70.434059\n",
       "\n",
       "[620 rows x 2 columns]"
      ]
     },
     "execution_count": 84,
     "metadata": {},
     "output_type": "execute_result"
    }
   ],
   "source": [
    "df=pd.DataFrame({'Actual':y, 'Predicted':y_pred})\n",
    "df"
   ]
  },
  {
   "cell_type": "code",
   "execution_count": 85,
   "metadata": {},
   "outputs": [
    {
     "name": "stdout",
     "output_type": "stream",
     "text": [
      "Mean Absolute Error: 0.23611414455005392\n",
      "Mean Squared Error: 0.13527147606704265\n",
      "Root Mean Squared Error: 0.3677927080123295\n"
     ]
    }
   ],
   "source": [
    "from sklearn import metrics\n",
    "print('Mean Absolute Error:', metrics.mean_absolute_error(y, y_pred))\n",
    "print('Mean Squared Error:', metrics.mean_squared_error(y, y_pred))\n",
    "print('Root Mean Squared Error:', np.sqrt(metrics.mean_squared_error(y, y_pred)))\n"
   ]
  },
  {
   "cell_type": "code",
   "execution_count": 87,
   "metadata": {},
   "outputs": [
    {
     "data": {
      "image/png": "[encoded data removed]",
      "text/plain": [
       "<Figure size 432x288 with 1 Axes>"
      ]
     },
     "metadata": {
      "needs_background": "light"
     },
     "output_type": "display_data"
    }
   ],
   "source": [
    "plt.plot(df.Actual.index, df.Actual)\n",
    "plt.plot(df.Actual.index, df.Predicted)\n",
    "plt.title('Random Forst Regressor')\n",
    "plt.xlabel('Time Step')\n",
    "plt.ylabel('RSSI')\n",
    "plt.show()"
   ]
  },
  {
   "cell_type": "code",
   "execution_count": null,
   "metadata": {},
   "outputs": [],
   "source": []
  }
 ],
 "metadata": {
  "kernelspec": {
   "display_name": "Python 3",
   "language": "python",
   "name": "python3"
  },
  "language_info": {
   "codemirror_mode": {
    "name": "ipython",
    "version": 3
   },
   "file_extension": ".py",
   "mimetype": "text/x-python",
   "name": "python",
   "nbconvert_exporter": "python",
   "pygments_lexer": "ipython3",
   "version": "3.7.6"
  }
 },
 "nbformat": 4,
 "nbformat_minor": 4
}
