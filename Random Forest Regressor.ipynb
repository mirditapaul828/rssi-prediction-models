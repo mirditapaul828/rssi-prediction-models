{
 "cells": [
  {
   "cell_type": "code",
   "execution_count": 13,
   "metadata": {},
   "outputs": [],
   "source": [
    "import numpy as np\n",
    "import pandas as pd\n",
    "from sklearn.model_selection import train_test_split\n",
    "from sklearn.ensemble import RandomForestRegressor\n",
    "from sklearn.metrics import r2_score,mean_squared_error\n",
    "import seaborn as sns\n",
    "import matplotlib.pyplot as plt"
   ]
  },
  {
   "cell_type": "code",
   "execution_count": 14,
   "metadata": {},
   "outputs": [],
   "source": [
    "df = pd.read_csv('Test3_Full_Original.csv',\n",
    "            delimiter=',', names=['x', 'y', 'Magicv2', 'localization4', 'localizationlab', 'Magicv2_5g', 'UVIC_Eduroam1', 'UVIC_Eduroam2', 'localization3', 'localization_lab5g', 'localization1', 'localization4_5g', 'UVIC_Eduroam3', 'localization2', 'localization3_5g', 'UVIC_Eduroam4', 'localization1_5g'])\n",
    "df = df.loc[:,['x','y','Magicv2', 'localization4', 'localizationlab', 'Magicv2_5g', \n",
    "       'localization3', 'localization_lab5g', 'localization1', 'localization4_5g', 'localization2',\n",
    "       'localization3_5g', 'localization1_5g']]\n",
    "\n",
    "df['Average'] = (df.Magicv2 + df.localization4 + df.localizationlab + df.Magicv2_5g + df.localization3 + df.localization_lab5g + df.localization1 + df.localization4_5g + df.localization2 + df.localization3_5g + df.localization1_5g)/11"
   ]
  },
  {
   "cell_type": "code",
   "execution_count": 15,
   "metadata": {},
   "outputs": [],
   "source": [
    "X = df.drop('Average', axis = 1)\n",
    "y = df['Average']"
   ]
  },
  {
   "cell_type": "code",
   "execution_count": 16,
   "metadata": {},
   "outputs": [],
   "source": [
    "x_train, x_test, y_train, y_test = train_test_split(X, y, test_size=0.2, shuffle=False)\n"
   ]
  },
  {
   "cell_type": "code",
   "execution_count": 17,
   "metadata": {},
   "outputs": [
    {
     "data": {
      "text/plain": [
       "RandomForestRegressor(bootstrap=True, ccp_alpha=0.0, criterion='mse',\n",
       "                      max_depth=None, max_features='auto', max_leaf_nodes=None,\n",
       "                      max_samples=None, min_impurity_decrease=0.0,\n",
       "                      min_impurity_split=None, min_samples_leaf=1,\n",
       "                      min_samples_split=2, min_weight_fraction_leaf=0.0,\n",
       "                      n_estimators=100, n_jobs=None, oob_score=False,\n",
       "                      random_state=None, verbose=0, warm_start=False)"
      ]
     },
     "execution_count": 17,
     "metadata": {},
     "output_type": "execute_result"
    }
   ],
   "source": [
    "RandomForestRegModel = RandomForestRegressor()\n",
    "RandomForestRegModel.fit(x_train, y_train)"
   ]
  },
  {
   "cell_type": "code",
   "execution_count": 18,
   "metadata": {},
   "outputs": [
    {
     "data": {
      "text/plain": [
       "array([-74.16545455, -74.10454545, -74.02181818, -74.03545455,\n",
       "       -74.40181818, -75.87454545, -75.97727273, -75.89181818,\n",
       "       -75.89181818, -75.59181818, -75.74909091, -75.90727273,\n",
       "       -75.93545455, -76.00454545, -75.95909091, -75.96727273,\n",
       "       -76.03363636, -74.53181818, -74.52909091, -74.52909091,\n",
       "       -74.39818182, -74.40090909, -74.28545455, -74.28272727,\n",
       "       -76.57545455, -74.04727273, -73.96454545, -73.94363636,\n",
       "       -73.92      , -73.92      , -74.21818182, -74.21818182,\n",
       "       -74.21818182, -73.95      , -73.95454545, -73.94545455,\n",
       "       -74.14636364, -74.10909091, -74.04727273, -74.04727273,\n",
       "       -74.04727273, -73.94363636, -73.94363636, -73.94363636,\n",
       "       -74.15181818, -74.17727273, -74.18181818, -74.18181818,\n",
       "       -74.13909091, -74.00818182, -73.97545455, -74.04181818,\n",
       "       -74.04      , -75.81727273, -73.90909091, -73.86272727,\n",
       "       -73.95181818, -73.85636364, -73.92636364, -73.85636364,\n",
       "       -73.85636364, -73.85636364, -74.15636364, -74.04181818,\n",
       "       -76.38363636, -76.37181818, -76.37      , -74.20181818,\n",
       "       -74.07272727, -73.95818182, -74.02363636, -74.26636364,\n",
       "       -74.08727273, -74.09636364, -74.07272727, -74.13090909,\n",
       "       -74.13090909, -74.23181818, -74.23181818, -74.23181818,\n",
       "       -74.23181818, -74.23181818, -74.20545455, -74.20545455,\n",
       "       -74.26636364, -76.47818182, -76.43545455, -76.43545455,\n",
       "       -76.49181818, -76.49181818, -74.27727273, -74.27727273,\n",
       "       -74.27727273, -74.27727273, -74.34363636, -74.27727273,\n",
       "       -74.27727273, -74.33363636, -74.27636364, -74.12363636,\n",
       "       -74.29090909, -74.27909091, -74.27090909, -74.27090909,\n",
       "       -74.61545455, -76.48636364, -74.21090909, -74.21727273,\n",
       "       -74.21727273, -74.21727273, -74.22909091, -74.24818182,\n",
       "       -74.26      , -74.23818182, -74.23818182, -74.42909091,\n",
       "       -74.11090909, -74.42909091, -74.11909091, -74.10181818,\n",
       "       -74.10181818, -74.10181818, -74.10181818, -74.08090909])"
      ]
     },
     "execution_count": 18,
     "metadata": {},
     "output_type": "execute_result"
    }
   ],
   "source": [
    "y_pred = RandomForestRegModel.predict(x_test)\n",
    "y_pred"
   ]
  },
  {
   "cell_type": "code",
   "execution_count": 19,
   "metadata": {},
   "outputs": [
    {
     "data": {
      "text/plain": [
       "2.0317945162536466"
      ]
     },
     "execution_count": 19,
     "metadata": {},
     "output_type": "execute_result"
    }
   ],
   "source": [
    "mse = mean_squared_error(y_test, y_pred)\n",
    "rmse = np.sqrt(mse)\n",
    "rmse"
   ]
  },
  {
   "cell_type": "code",
   "execution_count": 20,
   "metadata": {},
   "outputs": [
    {
     "data": {
      "text/html": [
       "<div>\n",
       "<style scoped>\n",
       "    .dataframe tbody tr th:only-of-type {\n",
       "        vertical-align: middle;\n",
       "    }\n",
       "\n",
       "    .dataframe tbody tr th {\n",
       "        vertical-align: top;\n",
       "    }\n",
       "\n",
       "    .dataframe thead th {\n",
       "        text-align: right;\n",
       "    }\n",
       "</style>\n",
       "<table border=\"1\" class=\"dataframe\">\n",
       "  <thead>\n",
       "    <tr style=\"text-align: right;\">\n",
       "      <th></th>\n",
       "      <th>Actual</th>\n",
       "      <th>Predicted</th>\n",
       "    </tr>\n",
       "  </thead>\n",
       "  <tbody>\n",
       "    <tr>\n",
       "      <th>496</th>\n",
       "      <td>-74.090909</td>\n",
       "      <td>-74.165455</td>\n",
       "    </tr>\n",
       "    <tr>\n",
       "      <th>497</th>\n",
       "      <td>-74.181818</td>\n",
       "      <td>-74.104545</td>\n",
       "    </tr>\n",
       "    <tr>\n",
       "      <th>498</th>\n",
       "      <td>-74.090909</td>\n",
       "      <td>-74.021818</td>\n",
       "    </tr>\n",
       "    <tr>\n",
       "      <th>499</th>\n",
       "      <td>-74.181818</td>\n",
       "      <td>-74.035455</td>\n",
       "    </tr>\n",
       "    <tr>\n",
       "      <th>500</th>\n",
       "      <td>-75.000000</td>\n",
       "      <td>-74.401818</td>\n",
       "    </tr>\n",
       "    <tr>\n",
       "      <th>...</th>\n",
       "      <td>...</td>\n",
       "      <td>...</td>\n",
       "    </tr>\n",
       "    <tr>\n",
       "      <th>615</th>\n",
       "      <td>-70.363636</td>\n",
       "      <td>-74.101818</td>\n",
       "    </tr>\n",
       "    <tr>\n",
       "      <th>616</th>\n",
       "      <td>-70.181818</td>\n",
       "      <td>-74.101818</td>\n",
       "    </tr>\n",
       "    <tr>\n",
       "      <th>617</th>\n",
       "      <td>-70.454545</td>\n",
       "      <td>-74.101818</td>\n",
       "    </tr>\n",
       "    <tr>\n",
       "      <th>618</th>\n",
       "      <td>-70.363636</td>\n",
       "      <td>-74.101818</td>\n",
       "    </tr>\n",
       "    <tr>\n",
       "      <th>619</th>\n",
       "      <td>-70.272727</td>\n",
       "      <td>-74.080909</td>\n",
       "    </tr>\n",
       "  </tbody>\n",
       "</table>\n",
       "<p>124 rows × 2 columns</p>\n",
       "</div>"
      ],
      "text/plain": [
       "        Actual  Predicted\n",
       "496 -74.090909 -74.165455\n",
       "497 -74.181818 -74.104545\n",
       "498 -74.090909 -74.021818\n",
       "499 -74.181818 -74.035455\n",
       "500 -75.000000 -74.401818\n",
       "..         ...        ...\n",
       "615 -70.363636 -74.101818\n",
       "616 -70.181818 -74.101818\n",
       "617 -70.454545 -74.101818\n",
       "618 -70.363636 -74.101818\n",
       "619 -70.272727 -74.080909\n",
       "\n",
       "[124 rows x 2 columns]"
      ]
     },
     "execution_count": 20,
     "metadata": {},
     "output_type": "execute_result"
    }
   ],
   "source": [
    "df=pd.DataFrame({'Actual':y_test, 'Predicted':y_pred})\n",
    "df"
   ]
  },
  {
   "cell_type": "code",
   "execution_count": 21,
   "metadata": {},
   "outputs": [
    {
     "name": "stdout",
     "output_type": "stream",
     "text": [
      "Mean Absolute Error: 1.6598753665689232\n",
      "Mean Squared Error: 4.1281889562783896\n",
      "Root Mean Squared Error: 2.0317945162536466\n"
     ]
    }
   ],
   "source": [
    "from sklearn import metrics\n",
    "print('Mean Absolute Error:', metrics.mean_absolute_error(y_test, y_pred))\n",
    "print('Mean Squared Error:', metrics.mean_squared_error(y_test, y_pred))\n",
    "print('Root Mean Squared Error:', np.sqrt(metrics.mean_squared_error(y_test, y_pred)))\n"
   ]
  },
  {
   "cell_type": "code",
   "execution_count": 22,
   "metadata": {},
   "outputs": [
    {
     "data": {
      "image/png": "[encoded data removed]",
      "text/plain": [
       "<Figure size 432x288 with 1 Axes>"
      ]
     },
     "metadata": {
      "needs_background": "light"
     },
     "output_type": "display_data"
    }
   ],
   "source": [
    "plt.plot(df.Actual.index, df.Actual)\n",
    "plt.plot(df.Actual.index, df.Predicted)\n",
    "\n",
    "plt.show()"
   ]
  },
  {
   "cell_type": "code",
   "execution_count": null,
   "metadata": {},
   "outputs": [],
   "source": []
  },
  {
   "cell_type": "code",
   "execution_count": null,
   "metadata": {},
   "outputs": [],
   "source": []
  }
 ],
 "metadata": {
  "kernelspec": {
   "display_name": "Python 3",
   "language": "python",
   "name": "python3"
  },
  "language_info": {
   "codemirror_mode": {
    "name": "ipython",
    "version": 3
   },
   "file_extension": ".py",
   "mimetype": "text/x-python",
   "name": "python",
   "nbconvert_exporter": "python",
   "pygments_lexer": "ipython3",
   "version": "3.7.6"
  }
 },
 "nbformat": 4,
 "nbformat_minor": 4
}
