{
 "cells": [
  {
   "cell_type": "code",
   "execution_count": 31,
   "metadata": {},
   "outputs": [],
   "source": [
    "import numpy as np\n",
    "import pandas as pd\n",
    "from sklearn.model_selection import GridSearchCV\n",
    "from sklearn.model_selection import train_test_split\n",
    "from sklearn.svm import SVR\n",
    "from sklearn.metrics import r2_score,mean_squared_error\n",
    "import seaborn as sns\n",
    "import matplotlib.pyplot as plt"
   ]
  },
  {
   "cell_type": "code",
   "execution_count": 32,
   "metadata": {},
   "outputs": [],
   "source": [
    "gsc = GridSearchCV(\n",
    "        estimator=SVR(kernel='rbf'),\n",
    "        param_grid={\n",
    "            'C': [0.1, 1, 100, 1000],\n",
    "            'epsilon': [0.0001, 0.0005, 0.001, 0.005, 0.01, 0.05, 0.1, 0.5, 1, 5, 10],\n",
    "            'gamma': [0.0001, 0.001, 0.005, 0.1, 1, 3, 5]\n",
    "        },\n",
    "        cv=5, scoring='neg_mean_squared_error', verbose=0, n_jobs=-1)"
   ]
  },
  {
   "cell_type": "code",
   "execution_count": 34,
   "metadata": {},
   "outputs": [
    {
     "data": {
      "text/html": [
       "<div>\n",
       "<style scoped>\n",
       "    .dataframe tbody tr th:only-of-type {\n",
       "        vertical-align: middle;\n",
       "    }\n",
       "\n",
       "    .dataframe tbody tr th {\n",
       "        vertical-align: top;\n",
       "    }\n",
       "\n",
       "    .dataframe thead th {\n",
       "        text-align: right;\n",
       "    }\n",
       "</style>\n",
       "<table border=\"1\" class=\"dataframe\">\n",
       "  <thead>\n",
       "    <tr style=\"text-align: right;\">\n",
       "      <th></th>\n",
       "      <th>x</th>\n",
       "      <th>y</th>\n",
       "      <th>Magicv2</th>\n",
       "      <th>localization4</th>\n",
       "      <th>localizationlab</th>\n",
       "      <th>Magicv2_5g</th>\n",
       "      <th>localization3</th>\n",
       "      <th>localization_lab5g</th>\n",
       "      <th>localization1</th>\n",
       "      <th>localization4_5g</th>\n",
       "      <th>localization2</th>\n",
       "      <th>localization3_5g</th>\n",
       "      <th>localization1_5g</th>\n",
       "      <th>Average</th>\n",
       "    </tr>\n",
       "  </thead>\n",
       "  <tbody>\n",
       "    <tr>\n",
       "      <th>0</th>\n",
       "      <td>5.0</td>\n",
       "      <td>-11.75</td>\n",
       "      <td>-56</td>\n",
       "      <td>-45</td>\n",
       "      <td>-66</td>\n",
       "      <td>-66</td>\n",
       "      <td>-41</td>\n",
       "      <td>-79</td>\n",
       "      <td>-76</td>\n",
       "      <td>-73</td>\n",
       "      <td>-75</td>\n",
       "      <td>-61</td>\n",
       "      <td>-90</td>\n",
       "      <td>-66.181818</td>\n",
       "    </tr>\n",
       "    <tr>\n",
       "      <th>1</th>\n",
       "      <td>5.0</td>\n",
       "      <td>-11.75</td>\n",
       "      <td>-56</td>\n",
       "      <td>-45</td>\n",
       "      <td>-63</td>\n",
       "      <td>-65</td>\n",
       "      <td>-41</td>\n",
       "      <td>-78</td>\n",
       "      <td>-73</td>\n",
       "      <td>-68</td>\n",
       "      <td>-75</td>\n",
       "      <td>-63</td>\n",
       "      <td>-95</td>\n",
       "      <td>-65.636364</td>\n",
       "    </tr>\n",
       "    <tr>\n",
       "      <th>2</th>\n",
       "      <td>5.0</td>\n",
       "      <td>-11.75</td>\n",
       "      <td>-55</td>\n",
       "      <td>-48</td>\n",
       "      <td>-59</td>\n",
       "      <td>-67</td>\n",
       "      <td>-42</td>\n",
       "      <td>-78</td>\n",
       "      <td>-73</td>\n",
       "      <td>-67</td>\n",
       "      <td>-73</td>\n",
       "      <td>-59</td>\n",
       "      <td>-93</td>\n",
       "      <td>-64.909091</td>\n",
       "    </tr>\n",
       "    <tr>\n",
       "      <th>3</th>\n",
       "      <td>5.0</td>\n",
       "      <td>-11.75</td>\n",
       "      <td>-55</td>\n",
       "      <td>-48</td>\n",
       "      <td>-59</td>\n",
       "      <td>-70</td>\n",
       "      <td>-43</td>\n",
       "      <td>-78</td>\n",
       "      <td>-73</td>\n",
       "      <td>-68</td>\n",
       "      <td>-73</td>\n",
       "      <td>-56</td>\n",
       "      <td>-95</td>\n",
       "      <td>-65.272727</td>\n",
       "    </tr>\n",
       "    <tr>\n",
       "      <th>4</th>\n",
       "      <td>5.0</td>\n",
       "      <td>-11.75</td>\n",
       "      <td>-55</td>\n",
       "      <td>-46</td>\n",
       "      <td>-63</td>\n",
       "      <td>-70</td>\n",
       "      <td>-39</td>\n",
       "      <td>-80</td>\n",
       "      <td>-73</td>\n",
       "      <td>-70</td>\n",
       "      <td>-73</td>\n",
       "      <td>-57</td>\n",
       "      <td>-95</td>\n",
       "      <td>-65.545455</td>\n",
       "    </tr>\n",
       "  </tbody>\n",
       "</table>\n",
       "</div>"
      ],
      "text/plain": [
       "     x      y  Magicv2  localization4  localizationlab  Magicv2_5g  \\\n",
       "0  5.0 -11.75      -56            -45              -66         -66   \n",
       "1  5.0 -11.75      -56            -45              -63         -65   \n",
       "2  5.0 -11.75      -55            -48              -59         -67   \n",
       "3  5.0 -11.75      -55            -48              -59         -70   \n",
       "4  5.0 -11.75      -55            -46              -63         -70   \n",
       "\n",
       "   localization3  localization_lab5g  localization1  localization4_5g  \\\n",
       "0            -41                 -79            -76               -73   \n",
       "1            -41                 -78            -73               -68   \n",
       "2            -42                 -78            -73               -67   \n",
       "3            -43                 -78            -73               -68   \n",
       "4            -39                 -80            -73               -70   \n",
       "\n",
       "   localization2  localization3_5g  localization1_5g    Average  \n",
       "0            -75               -61               -90 -66.181818  \n",
       "1            -75               -63               -95 -65.636364  \n",
       "2            -73               -59               -93 -64.909091  \n",
       "3            -73               -56               -95 -65.272727  \n",
       "4            -73               -57               -95 -65.545455  "
      ]
     },
     "execution_count": 34,
     "metadata": {},
     "output_type": "execute_result"
    }
   ],
   "source": [
    "df = pd.read_csv('Test3_Full_Original.csv',\n",
    "            delimiter=',', names=['x', 'y', 'Magicv2', 'localization4', 'localizationlab', 'Magicv2_5g', 'UVIC_Eduroam1', 'UVIC_Eduroam2', 'localization3', 'localization_lab5g', 'localization1', 'localization4_5g', 'UVIC_Eduroam3', 'localization2', 'localization3_5g', 'UVIC_Eduroam4', 'localization1_5g'])\n",
    "df = df.loc[:,['x','y','Magicv2', 'localization4', 'localizationlab', 'Magicv2_5g', \n",
    "       'localization3', 'localization_lab5g', 'localization1', 'localization4_5g', 'localization2',\n",
    "       'localization3_5g', 'localization1_5g']]\n",
    "\n",
    "df['Average'] = (df.Magicv2 + df.localization4 + df.localizationlab + df.Magicv2_5g + df.localization3 + df.localization_lab5g + df.localization1 + df.localization4_5g + df.localization2 + df.localization3_5g + df.localization1_5g)/11\n",
    "df.head()"
   ]
  },
  {
   "cell_type": "code",
   "execution_count": 35,
   "metadata": {},
   "outputs": [],
   "source": [
    "X = df.drop('Average', axis = 1)\n",
    "y = df['Average']"
   ]
  },
  {
   "cell_type": "code",
   "execution_count": 6,
   "metadata": {},
   "outputs": [],
   "source": [
    "x_train, x_test, y_train, y_test = train_test_split(X, y, test_size=0.2,shuffle=False)"
   ]
  },
  {
   "cell_type": "code",
   "execution_count": 13,
   "metadata": {},
   "outputs": [],
   "source": [
    "grid_result = gsc.fit(x_train, y_train)\n",
    "best_params = grid_result.best_params_\n",
    "best_svr = SVR(kernel='rbf', C=best_params[\"C\"], epsilon=best_params[\"epsilon\"], gamma=best_params[\"gamma\"],\n",
    "                   coef0=0.1, shrinking=True,\n",
    "                   tol=0.001, cache_size=200, verbose=False, max_iter=-1)"
   ]
  },
  {
   "cell_type": "code",
   "execution_count": 14,
   "metadata": {},
   "outputs": [
    {
     "name": "stdout",
     "output_type": "stream",
     "text": [
      "{'C': 1000, 'epsilon': 0.0001, 'gamma': 0.0001}\n",
      "-1.390190414262935e-06\n"
     ]
    }
   ],
   "source": [
    "print(best_params)\n",
    "print(gsc.score(x_train,y_train))"
   ]
  },
  {
   "cell_type": "code",
   "execution_count": 16,
   "metadata": {},
   "outputs": [
    {
     "data": {
      "text/plain": [
       "SVR(C=1000, cache_size=200, coef0=0.0, degree=3, epsilon=0.0001, gamma=0.0001,\n",
       "    kernel='rbf', max_iter=-1, shrinking=True, tol=0.001, verbose=False)"
      ]
     },
     "execution_count": 16,
     "metadata": {},
     "output_type": "execute_result"
    }
   ],
   "source": [
    "SupportVectorRegModel = SVR(kernel='rbf', gamma = 0.0001, C = 1000, epsilon = 0.0001)\n",
    "SupportVectorRegModel.fit(x_train, y_train)"
   ]
  },
  {
   "cell_type": "code",
   "execution_count": 17,
   "metadata": {},
   "outputs": [
    {
     "data": {
      "text/plain": [
       "array([-74.09211784, -74.17320045, -74.08433263, -74.17980426,\n",
       "       -74.98481265, -75.52584847, -75.44869146, -75.29201269,\n",
       "       -74.83160093, -74.38164494, -74.65211922, -74.65100924,\n",
       "       -74.8266225 , -75.25761431, -74.4735359 , -74.83074793,\n",
       "       -75.62283286, -74.9525809 , -74.77175426, -74.77175426,\n",
       "       -74.06312735, -74.51917509, -74.07127293, -74.16636769,\n",
       "       -76.86489456, -73.69704857, -73.42450146, -73.33658308,\n",
       "       -72.9742459 , -72.9742459 , -73.77827207, -73.77827207,\n",
       "       -73.68754993, -73.41885958, -73.60303672, -73.51614689,\n",
       "       -74.33508274, -74.42100431, -73.96501529, -73.78347282,\n",
       "       -73.78347282, -73.69358535, -73.60224187, -73.42494578,\n",
       "       -73.05905745, -73.59248884, -72.43620069, -72.69588679,\n",
       "       -72.51950621, -71.83144868, -72.26988746, -72.01069543,\n",
       "       -72.09779444, -75.68440837, -72.44611296, -72.09044404,\n",
       "       -72.79432369, -72.61898384, -72.88861806, -72.61898384,\n",
       "       -72.4432901 , -72.62399529, -72.97733947, -72.5364809 ,\n",
       "       -74.85857092, -74.14054491, -74.50011781, -71.99992984,\n",
       "       -72.08746786, -71.73312488, -72.08351341, -72.72033677,\n",
       "       -72.17454041, -72.26919682, -72.35178562, -72.35270548,\n",
       "       -72.44354665, -72.61833653, -72.61636887, -72.79501916,\n",
       "       -72.79501916, -72.79501916, -72.6192716 , -72.26498308,\n",
       "       -72.07439265, -74.4802418 , -74.13133597, -74.30401256,\n",
       "       -74.55823949, -74.47704987, -71.81548817, -71.64016868,\n",
       "       -71.72987296, -71.64016868, -71.81466741, -71.55357486,\n",
       "       -71.55357486, -71.72495786, -71.63996133, -71.37450141,\n",
       "       -72.24584666, -71.81003295, -71.71726852, -71.63127516,\n",
       "       -73.15890197, -73.43045844, -69.89841411, -70.31648879,\n",
       "       -70.31651216, -70.06783278, -70.65549342, -70.75746789,\n",
       "       -70.48726104, -70.40106219, -70.31268415, -71.39466617,\n",
       "       -70.14505579, -71.3169394 , -70.75572814, -70.40382315,\n",
       "       -70.23487685, -70.48475754, -70.40597384, -70.31877501])"
      ]
     },
     "execution_count": 17,
     "metadata": {},
     "output_type": "execute_result"
    }
   ],
   "source": [
    "y_pred = SupportVectorRegModel.predict(x_test)\n",
    "y_pred"
   ]
  },
  {
   "cell_type": "code",
   "execution_count": 18,
   "metadata": {},
   "outputs": [
    {
     "data": {
      "text/plain": [
       "0.028401909637969548"
      ]
     },
     "execution_count": 18,
     "metadata": {},
     "output_type": "execute_result"
    }
   ],
   "source": [
    "mse = mean_squared_error(y_test, y_pred)\n",
    "rmse = np.sqrt(mse)\n",
    "rmse"
   ]
  },
  {
   "cell_type": "code",
   "execution_count": 19,
   "metadata": {},
   "outputs": [
    {
     "data": {
      "text/html": [
       "<div>\n",
       "<style scoped>\n",
       "    .dataframe tbody tr th:only-of-type {\n",
       "        vertical-align: middle;\n",
       "    }\n",
       "\n",
       "    .dataframe tbody tr th {\n",
       "        vertical-align: top;\n",
       "    }\n",
       "\n",
       "    .dataframe thead th {\n",
       "        text-align: right;\n",
       "    }\n",
       "</style>\n",
       "<table border=\"1\" class=\"dataframe\">\n",
       "  <thead>\n",
       "    <tr style=\"text-align: right;\">\n",
       "      <th></th>\n",
       "      <th>Actual</th>\n",
       "      <th>Predicted</th>\n",
       "    </tr>\n",
       "  </thead>\n",
       "  <tbody>\n",
       "    <tr>\n",
       "      <th>496</th>\n",
       "      <td>-74.090909</td>\n",
       "      <td>-74.092118</td>\n",
       "    </tr>\n",
       "    <tr>\n",
       "      <th>497</th>\n",
       "      <td>-74.181818</td>\n",
       "      <td>-74.173200</td>\n",
       "    </tr>\n",
       "    <tr>\n",
       "      <th>498</th>\n",
       "      <td>-74.090909</td>\n",
       "      <td>-74.084333</td>\n",
       "    </tr>\n",
       "    <tr>\n",
       "      <th>499</th>\n",
       "      <td>-74.181818</td>\n",
       "      <td>-74.179804</td>\n",
       "    </tr>\n",
       "    <tr>\n",
       "      <th>500</th>\n",
       "      <td>-75.000000</td>\n",
       "      <td>-74.984813</td>\n",
       "    </tr>\n",
       "    <tr>\n",
       "      <th>...</th>\n",
       "      <td>...</td>\n",
       "      <td>...</td>\n",
       "    </tr>\n",
       "    <tr>\n",
       "      <th>615</th>\n",
       "      <td>-70.363636</td>\n",
       "      <td>-70.403823</td>\n",
       "    </tr>\n",
       "    <tr>\n",
       "      <th>616</th>\n",
       "      <td>-70.181818</td>\n",
       "      <td>-70.234877</td>\n",
       "    </tr>\n",
       "    <tr>\n",
       "      <th>617</th>\n",
       "      <td>-70.454545</td>\n",
       "      <td>-70.484758</td>\n",
       "    </tr>\n",
       "    <tr>\n",
       "      <th>618</th>\n",
       "      <td>-70.363636</td>\n",
       "      <td>-70.405974</td>\n",
       "    </tr>\n",
       "    <tr>\n",
       "      <th>619</th>\n",
       "      <td>-70.272727</td>\n",
       "      <td>-70.318775</td>\n",
       "    </tr>\n",
       "  </tbody>\n",
       "</table>\n",
       "<p>124 rows × 2 columns</p>\n",
       "</div>"
      ],
      "text/plain": [
       "        Actual  Predicted\n",
       "496 -74.090909 -74.092118\n",
       "497 -74.181818 -74.173200\n",
       "498 -74.090909 -74.084333\n",
       "499 -74.181818 -74.179804\n",
       "500 -75.000000 -74.984813\n",
       "..         ...        ...\n",
       "615 -70.363636 -70.403823\n",
       "616 -70.181818 -70.234877\n",
       "617 -70.454545 -70.484758\n",
       "618 -70.363636 -70.405974\n",
       "619 -70.272727 -70.318775\n",
       "\n",
       "[124 rows x 2 columns]"
      ]
     },
     "execution_count": 19,
     "metadata": {},
     "output_type": "execute_result"
    }
   ],
   "source": [
    "df=pd.DataFrame({'Actual':y_test, 'Predicted':y_pred})\n",
    "df"
   ]
  },
  {
   "cell_type": "code",
   "execution_count": 20,
   "metadata": {},
   "outputs": [
    {
     "name": "stdout",
     "output_type": "stream",
     "text": [
      "Mean Absolute Error: 0.023497580669136767\n",
      "Mean Squared Error: 0.0008066684710833875\n",
      "Root Mean Squared Error: 0.028401909637969548\n"
     ]
    }
   ],
   "source": [
    "from sklearn import metrics\n",
    "print('Mean Absolute Error:', metrics.mean_absolute_error(y_test, y_pred))\n",
    "print('Mean Squared Error:', metrics.mean_squared_error(y_test, y_pred))\n",
    "print('Root Mean Squared Error:', np.sqrt(metrics.mean_squared_error(y_test, y_pred)))\n"
   ]
  },
  {
   "cell_type": "code",
   "execution_count": 21,
   "metadata": {},
   "outputs": [
    {
     "data": {
      "image/png": "[encoded data removed]",
      "text/plain": [
       "<Figure size 432x288 with 1 Axes>"
      ]
     },
     "metadata": {
      "needs_background": "light"
     },
     "output_type": "display_data"
    }
   ],
   "source": [
    "plt.plot(df.Actual.index, df.Actual)\n",
    "plt.plot(df.Actual.index, df.Predicted)\n",
    "plt.show()"
   ]
  },
  {
   "cell_type": "code",
   "execution_count": 22,
   "metadata": {},
   "outputs": [
    {
     "data": {
      "text/plain": [
       "SVR(C=1000, cache_size=200, coef0=0.0, degree=3, epsilon=0.0001, gamma=0.0001,\n",
       "    kernel='rbf', max_iter=-1, shrinking=True, tol=0.001, verbose=False)"
      ]
     },
     "execution_count": 22,
     "metadata": {},
     "output_type": "execute_result"
    }
   ],
   "source": [
    "SupportVectorRegModel = SVR(kernel='rbf', gamma = 0.0001, C = 1000, epsilon = 0.0001)\n",
    "SupportVectorRegModel.fit(X, y)"
   ]
  },
  {
   "cell_type": "code",
   "execution_count": 23,
   "metadata": {},
   "outputs": [
    {
     "data": {
      "text/plain": [
       "array([-66.18179085, -65.63605292, -64.90880231, -65.27377459,\n",
       "       -65.53937151, -64.81842797, -65.27606736, -64.81790452,\n",
       "       -64.7273662 , -64.45416458, -67.18236559, -67.63596855,\n",
       "       -64.81762912, -63.72728841, -63.81823238, -63.45669337,\n",
       "       -63.36316784, -63.18186834, -63.00303783, -63.36330047,\n",
       "       -68.9997351 , -66.72690614, -66.81738042, -67.63617978,\n",
       "       -66.9975599 , -66.81781848, -66.27252458, -66.35842178,\n",
       "       -65.90563585, -65.81803635, -66.00079753, -66.00393211,\n",
       "       -66.90942531, -65.72697195, -67.09059779, -66.81773308,\n",
       "       -66.54113262, -67.18176885, -67.00062195, -67.27235713,\n",
       "       -67.90850286, -67.99956302, -67.45391358, -67.54477781,\n",
       "       -67.54578714, -67.54503545, -67.09106291, -66.99953   ,\n",
       "       -66.99959469, -67.36287702, -70.45402653, -69.2740253 ,\n",
       "       -68.90907171, -68.36394373, -71.18093347, -69.00072133,\n",
       "       -67.72701962, -68.09105622, -67.27203859, -67.63605204,\n",
       "       -67.35870796, -67.45483121, -68.0901781 , -68.36362179,\n",
       "       -67.9993786 , -67.72721072, -67.72721072, -68.00028311,\n",
       "       -67.72982864, -67.81960492, -67.36564805, -67.63625888,\n",
       "       -67.90876466, -68.18205137, -67.99977702, -67.81809427,\n",
       "       -68.18232614, -68.45514962, -68.18184597, -68.18191871,\n",
       "       -71.09069459, -75.27247568, -72.36227078, -72.45438492,\n",
       "       -71.09061029, -70.90840595, -70.45471943, -70.54574125,\n",
       "       -70.45471943, -72.636649  , -72.54473654, -72.45436642,\n",
       "       -72.45436642, -72.54644516, -72.45477824, -70.09106848,\n",
       "       -70.09106848, -70.45609767, -70.91027825, -70.72772516,\n",
       "       -68.36378351, -70.3635388 , -70.36376558, -70.81819552,\n",
       "       -71.45426508, -73.09078462, -69.365009  , -69.09037228,\n",
       "       -69.91075983, -69.54545482, -69.54403838, -69.09073733,\n",
       "       -69.63672252, -69.45634142, -69.54406835, -70.99950765,\n",
       "       -70.90862631, -70.90945957, -70.90875029, -71.0890375 ,\n",
       "       -70.54465339, -70.36324852, -70.8180604 , -70.81789435,\n",
       "       -70.63703493, -69.18192306, -68.90871925, -68.81740814,\n",
       "       -68.72670769, -68.54476553, -68.54455084, -68.09148399,\n",
       "       -70.54527856, -70.45273188, -68.36396932, -68.36396932,\n",
       "       -68.54550129, -68.54557121, -68.72710093, -68.90920419,\n",
       "       -68.72749451, -68.5454439 , -68.63615838, -69.09142913,\n",
       "       -68.36320956, -69.45448853, -69.09118087, -69.7276056 ,\n",
       "       -69.09131786, -68.90979113, -68.72732835, -69.09099399,\n",
       "       -69.09087495, -68.81839509, -69.45505995, -68.72703175,\n",
       "       -69.27264269, -68.72725492, -69.18219655, -68.7275784 ,\n",
       "       -69.45370671, -69.63646377, -70.18388321, -69.99952298,\n",
       "       -69.18153173, -70.36304885, -70.18173248, -70.54531974,\n",
       "       -70.27317165, -69.90988435, -70.27317165, -69.72734146,\n",
       "       -70.81670988, -70.45382594, -69.99957761, -70.1816917 ,\n",
       "       -69.09101659, -69.54366326, -69.63649353, -69.45417716,\n",
       "       -68.54563073, -68.54653879, -68.63637584, -68.63637584,\n",
       "       -69.27287771, -69.45521086, -69.45451803, -68.45689898,\n",
       "       -70.36444141, -70.00019056, -70.36348694, -69.72724862,\n",
       "       -68.81826545, -69.00056765, -68.90923632, -68.45425642,\n",
       "       -68.09130058, -68.0904124 , -67.90892617, -68.27621164,\n",
       "       -67.9992222 , -68.27295483, -68.36288815, -68.09090336,\n",
       "       -67.72701081, -67.9085528 , -67.81860312, -67.72713668,\n",
       "       -67.54904382, -67.90831882, -67.63610821, -67.54482797,\n",
       "       -67.45725754, -67.54584809, -67.54584809, -70.36291969,\n",
       "       -70.0908541 , -70.00018611, -69.99976747, -70.36365671,\n",
       "       -69.63653436, -70.36353245, -70.27261507, -69.99984619,\n",
       "       -70.54509167, -70.09095532, -70.45448798, -70.27259495,\n",
       "       -70.00005646, -70.0908782 , -70.18182817, -70.18182817,\n",
       "       -70.36333744, -70.36333744, -70.18157899, -70.4542376 ,\n",
       "       -70.36334283, -70.54558696, -70.63636717, -70.63636717,\n",
       "       -69.99908265, -69.81888174, -69.63616957, -69.63659961,\n",
       "       -69.00034104, -69.81958535, -69.63659063, -69.81919669,\n",
       "       -69.54605777, -69.63716571, -69.27250924, -69.81905745,\n",
       "       -69.91021797, -69.81891968, -69.72764699, -69.45455746,\n",
       "       -69.00092453, -69.72827279, -69.6377055 , -69.27301854,\n",
       "       -68.90849649, -68.99998201, -68.72660517, -70.72635498,\n",
       "       -69.54536581, -68.90821286, -68.45448017, -71.27276673,\n",
       "       -71.36300667, -70.81752471, -68.4546753 , -68.54599465,\n",
       "       -68.72735045, -68.54540882, -68.2737947 , -68.27377725,\n",
       "       -68.09098313, -71.1826223 , -71.27180295, -71.36353018,\n",
       "       -68.18201435, -71.18127751, -68.90934873, -69.18186702,\n",
       "       -69.00046657, -69.27333157, -68.90961748, -69.09123971,\n",
       "       -69.27269453, -69.4534972 , -69.45434121, -69.18145969,\n",
       "       -69.00020713, -69.09109026, -68.90989904, -69.18213537,\n",
       "       -68.90940569, -69.45465886, -72.36311315, -69.36389779,\n",
       "       -67.72563533, -67.45547094, -67.72728552, -67.36472896,\n",
       "       -67.45468984, -67.36552217, -67.36258306, -67.45386425,\n",
       "       -67.7256194 , -67.09066825, -67.54532336, -67.63671828,\n",
       "       -67.63677756, -67.72930612, -67.90920385, -69.63658756,\n",
       "       -70.18211928, -69.90910302, -67.4544815 , -67.36277308,\n",
       "       -68.90912039, -69.00172226, -69.27187715, -70.18118392,\n",
       "       -69.63662919, -69.72738465, -69.54574318, -69.27305712,\n",
       "       -69.27425827, -69.90938232, -70.63478724, -70.27269994,\n",
       "       -70.00018162, -70.63469409, -69.63691184, -70.18188902,\n",
       "       -69.63608823, -69.90730388, -69.90972333, -69.90905767,\n",
       "       -70.36379954, -70.36388599, -70.27288776, -70.18193868,\n",
       "       -69.90940802, -70.36373703, -70.63638754, -70.6371666 ,\n",
       "       -70.54614538, -70.45495873, -70.45490579, -70.09074544,\n",
       "       -70.27280924, -69.99970189, -70.45514384, -70.45507377,\n",
       "       -70.09107097, -70.2731427 , -70.18195712, -69.816795  ,\n",
       "       -71.72779476, -71.72754693, -71.99998983, -72.27274847,\n",
       "       -71.63501716, -71.99959847, -71.90883604, -74.27228146,\n",
       "       -74.27272511, -71.99959847, -71.81814885, -72.00007889,\n",
       "       -72.00007889, -74.63542853, -72.09027263, -71.90902066,\n",
       "       -71.90902066, -72.00030745, -71.90948561, -72.09128062,\n",
       "       -72.18173636, -73.81924978, -71.5479728 , -71.72743582,\n",
       "       -71.90947475, -72.09228004, -72.18265557, -72.09062194,\n",
       "       -71.63623934, -71.72737907, -72.09177683, -72.09010238,\n",
       "       -71.727035  , -72.09010238, -72.45523095, -72.36465222,\n",
       "       -72.27214127, -72.09018774, -72.27218197, -72.27187448,\n",
       "       -74.36362842, -73.27614788, -73.36583474, -73.27363779,\n",
       "       -73.63599493, -73.54563613, -73.45469213, -73.45469213,\n",
       "       -73.36401085, -73.45519906, -76.36282095, -76.27200559,\n",
       "       -76.7265543 , -73.99718903, -73.54564247, -73.36383712,\n",
       "       -73.54600649, -73.45407566, -73.45407566, -73.63499308,\n",
       "       -71.81850824, -71.72724804, -71.63691349, -71.81894573,\n",
       "       -71.36429384, -71.45509832, -71.18254317, -71.09157595,\n",
       "       -71.18218435, -71.36356241, -71.18158863, -71.27236047,\n",
       "       -71.36356241, -71.36356241, -71.09179737, -71.09179737,\n",
       "       -71.3641873 , -71.27314747, -71.36368072, -71.27265332,\n",
       "       -74.36305053, -74.45442469, -71.63790829, -71.72879143,\n",
       "       -71.90942298, -71.81838494, -71.81836656, -71.81862072,\n",
       "       -72.00037736, -71.63696671, -71.81958279, -72.36405247,\n",
       "       -72.18204024, -72.272515  , -72.09010245, -71.99841885,\n",
       "       -72.54619755, -72.45487398, -72.18079988, -75.45434331,\n",
       "       -73.91000231, -74.45468008, -74.2717866 , -74.2715732 ,\n",
       "       -74.36262604, -74.27298956, -73.9093013 , -73.81884386,\n",
       "       -74.26988521, -74.00035397, -74.00035397, -73.63646658,\n",
       "       -73.90958556, -74.36375213, -74.18388079, -74.36158976,\n",
       "       -73.90935038, -74.09199682, -74.18202863, -74.27283985,\n",
       "       -74.63869775, -74.99536097, -74.63632116, -73.72693031,\n",
       "       -74.17932034, -74.09112926, -74.09019653, -74.54534423,\n",
       "       -76.99996889, -76.45554106, -76.08941462, -75.99972158,\n",
       "       -76.45405212, -76.63598497, -76.27239358, -74.36372276,\n",
       "       -74.0913814 , -74.18035411, -74.09040735, -74.18269605,\n",
       "       -75.00129817, -75.54439901, -75.45419383, -75.27269575,\n",
       "       -74.81954363, -74.36363195, -74.63632799, -74.63610332,\n",
       "       -74.81642888, -75.27136229, -74.45468342, -74.81967117,\n",
       "       -75.63605284, -74.99793755, -74.81752313, -74.81752313,\n",
       "       -74.09049172, -74.54386034, -74.09081326, -74.18322236,\n",
       "       -76.90875833, -73.72843567, -73.45483238, -73.363941  ,\n",
       "       -73.00042068, -73.00042068, -73.81786856, -73.81786856,\n",
       "       -73.72675191, -73.45389199, -73.63580665, -73.54542464,\n",
       "       -74.36492011, -74.45376321, -73.99947827, -73.81831443,\n",
       "       -73.81831443, -73.72713419, -73.63627461, -73.45449692,\n",
       "       -73.09140947, -73.63665699, -72.45347498, -72.72485257,\n",
       "       -72.54506821, -71.81850775, -72.27297004, -72.00033168,\n",
       "       -72.09211942, -75.72733198, -72.45497854, -72.09167468,\n",
       "       -72.81818463, -72.63614877, -72.90901079, -72.63614877,\n",
       "       -72.45501498, -72.63636844, -73.00097216, -72.54576083,\n",
       "       -74.81844105, -74.09097657, -74.45358373, -71.99909611,\n",
       "       -72.09122504, -71.7281932 , -72.09094393, -72.72682644,\n",
       "       -72.18147884, -72.27275074, -72.36361942, -72.36424029,\n",
       "       -72.45517379, -72.6365548 , -72.63613089, -72.81899355,\n",
       "       -72.81899355, -72.81899355, -72.63636666, -72.27377653,\n",
       "       -72.09065579, -74.45455251, -74.09070536, -74.27252312,\n",
       "       -74.54553336, -74.45413611, -71.81817602, -71.63566744,\n",
       "       -71.72642794, -71.63566744, -71.81784488, -71.54490916,\n",
       "       -71.54490916, -71.72703627, -71.63710574, -71.36667331,\n",
       "       -72.27280202, -71.81858652, -71.72741176, -71.63631744,\n",
       "       -73.1816313 , -73.36374149, -69.82055723, -70.27313577,\n",
       "       -70.27281245, -70.00092228, -70.63678117, -70.72543733,\n",
       "       -70.45362803, -70.36331322, -70.27313191, -71.36340851,\n",
       "       -70.09092637, -71.27264274, -70.72589488, -70.36357876,\n",
       "       -70.18234062, -70.4540262 , -70.36356117, -70.27315403])"
      ]
     },
     "execution_count": 23,
     "metadata": {},
     "output_type": "execute_result"
    }
   ],
   "source": [
    "y_pred = SupportVectorRegModel.predict(X)\n",
    "y_pred"
   ]
  },
  {
   "cell_type": "code",
   "execution_count": 25,
   "metadata": {},
   "outputs": [
    {
     "data": {
      "text/plain": [
       "0.0009446740659972786"
      ]
     },
     "execution_count": 25,
     "metadata": {},
     "output_type": "execute_result"
    }
   ],
   "source": [
    "mse = mean_squared_error(y, y_pred)\n",
    "rmse = np.sqrt(mse)\n",
    "rmse"
   ]
  },
  {
   "cell_type": "code",
   "execution_count": 27,
   "metadata": {},
   "outputs": [
    {
     "data": {
      "text/html": [
       "<div>\n",
       "<style scoped>\n",
       "    .dataframe tbody tr th:only-of-type {\n",
       "        vertical-align: middle;\n",
       "    }\n",
       "\n",
       "    .dataframe tbody tr th {\n",
       "        vertical-align: top;\n",
       "    }\n",
       "\n",
       "    .dataframe thead th {\n",
       "        text-align: right;\n",
       "    }\n",
       "</style>\n",
       "<table border=\"1\" class=\"dataframe\">\n",
       "  <thead>\n",
       "    <tr style=\"text-align: right;\">\n",
       "      <th></th>\n",
       "      <th>Actual</th>\n",
       "      <th>Predicted</th>\n",
       "    </tr>\n",
       "  </thead>\n",
       "  <tbody>\n",
       "    <tr>\n",
       "      <th>0</th>\n",
       "      <td>-66.181818</td>\n",
       "      <td>-66.181791</td>\n",
       "    </tr>\n",
       "    <tr>\n",
       "      <th>1</th>\n",
       "      <td>-65.636364</td>\n",
       "      <td>-65.636053</td>\n",
       "    </tr>\n",
       "    <tr>\n",
       "      <th>2</th>\n",
       "      <td>-64.909091</td>\n",
       "      <td>-64.908802</td>\n",
       "    </tr>\n",
       "    <tr>\n",
       "      <th>3</th>\n",
       "      <td>-65.272727</td>\n",
       "      <td>-65.273775</td>\n",
       "    </tr>\n",
       "    <tr>\n",
       "      <th>4</th>\n",
       "      <td>-65.545455</td>\n",
       "      <td>-65.539372</td>\n",
       "    </tr>\n",
       "    <tr>\n",
       "      <th>...</th>\n",
       "      <td>...</td>\n",
       "      <td>...</td>\n",
       "    </tr>\n",
       "    <tr>\n",
       "      <th>615</th>\n",
       "      <td>-70.363636</td>\n",
       "      <td>-70.363579</td>\n",
       "    </tr>\n",
       "    <tr>\n",
       "      <th>616</th>\n",
       "      <td>-70.181818</td>\n",
       "      <td>-70.182341</td>\n",
       "    </tr>\n",
       "    <tr>\n",
       "      <th>617</th>\n",
       "      <td>-70.454545</td>\n",
       "      <td>-70.454026</td>\n",
       "    </tr>\n",
       "    <tr>\n",
       "      <th>618</th>\n",
       "      <td>-70.363636</td>\n",
       "      <td>-70.363561</td>\n",
       "    </tr>\n",
       "    <tr>\n",
       "      <th>619</th>\n",
       "      <td>-70.272727</td>\n",
       "      <td>-70.273154</td>\n",
       "    </tr>\n",
       "  </tbody>\n",
       "</table>\n",
       "<p>620 rows × 2 columns</p>\n",
       "</div>"
      ],
      "text/plain": [
       "        Actual  Predicted\n",
       "0   -66.181818 -66.181791\n",
       "1   -65.636364 -65.636053\n",
       "2   -64.909091 -64.908802\n",
       "3   -65.272727 -65.273775\n",
       "4   -65.545455 -65.539372\n",
       "..         ...        ...\n",
       "615 -70.363636 -70.363579\n",
       "616 -70.181818 -70.182341\n",
       "617 -70.454545 -70.454026\n",
       "618 -70.363636 -70.363561\n",
       "619 -70.272727 -70.273154\n",
       "\n",
       "[620 rows x 2 columns]"
      ]
     },
     "execution_count": 27,
     "metadata": {},
     "output_type": "execute_result"
    }
   ],
   "source": [
    "df=pd.DataFrame({'Actual':y, 'Predicted':y_pred})\n",
    "df"
   ]
  },
  {
   "cell_type": "code",
   "execution_count": 29,
   "metadata": {},
   "outputs": [
    {
     "name": "stdout",
     "output_type": "stream",
     "text": [
      "Mean Absolute Error: 0.0005921894048240445\n",
      "Mean Squared Error: 8.924090909678305e-07\n",
      "Root Mean Squared Error: 0.0009446740659972786\n"
     ]
    }
   ],
   "source": [
    "from sklearn import metrics\n",
    "print('Mean Absolute Error:', metrics.mean_absolute_error(y, y_pred))\n",
    "print('Mean Squared Error:', metrics.mean_squared_error(y, y_pred))\n",
    "print('Root Mean Squared Error:', np.sqrt(metrics.mean_squared_error(y, y_pred)))\n"
   ]
  },
  {
   "cell_type": "code",
   "execution_count": 30,
   "metadata": {},
   "outputs": [
    {
     "data": {
      "image/png": "[encoded data removed]",
      "text/plain": [
       "<Figure size 432x288 with 1 Axes>"
      ]
     },
     "metadata": {
      "needs_background": "light"
     },
     "output_type": "display_data"
    }
   ],
   "source": [
    "plt.plot(df.Actual.index, df.Actual)\n",
    "plt.plot(df.Actual.index, df.Predicted)\n",
    "plt.show()"
   ]
  },
  {
   "cell_type": "code",
   "execution_count": null,
   "metadata": {},
   "outputs": [],
   "source": []
  }
 ],
 "metadata": {
  "kernelspec": {
   "display_name": "Python 3",
   "language": "python",
   "name": "python3"
  },
  "language_info": {
   "codemirror_mode": {
    "name": "ipython",
    "version": 3
   },
   "file_extension": ".py",
   "mimetype": "text/x-python",
   "name": "python",
   "nbconvert_exporter": "python",
   "pygments_lexer": "ipython3",
   "version": "3.7.6"
  }
 },
 "nbformat": 4,
 "nbformat_minor": 4
}
