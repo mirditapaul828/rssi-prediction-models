{
 "cells": [
  {
   "cell_type": "code",
   "execution_count": 90,
   "metadata": {},
   "outputs": [],
   "source": [
    "import numpy as np\n",
    "import pandas as pd\n",
    "from sklearn.model_selection import GridSearchCV\n",
    "from sklearn.model_selection import train_test_split\n",
    "from sklearn.svm import SVR\n",
    "from sklearn.metrics import r2_score,mean_squared_error\n",
    "import seaborn as sns\n",
    "import matplotlib.pyplot as plt"
   ]
  },
  {
   "cell_type": "code",
   "execution_count": 91,
   "metadata": {},
   "outputs": [],
   "source": [
    "gsc = GridSearchCV(\n",
    "        estimator=SVR(kernel='rbf'),\n",
    "        param_grid={\n",
    "            'C': [0.1, 1, 100, 1000],\n",
    "            'epsilon': [0.0001, 0.0005, 0.001, 0.005, 0.01, 0.05, 0.1, 0.5, 1, 5, 10],\n",
    "            'gamma': [0.0001, 0.001, 0.005, 0.1, 1, 3, 5]\n",
    "        },\n",
    "        cv=5, scoring='neg_mean_squared_error', verbose=0, n_jobs=-1)"
   ]
  },
  {
   "cell_type": "code",
   "execution_count": 92,
   "metadata": {},
   "outputs": [],
   "source": [
    "df = pd.read_csv('Test3_Full_Original.csv',\n",
    "            delimiter=',', names=['x', 'y', 'Magicv2', 'localization4', 'localizationlab', 'Magicv2_5g', 'UVIC_Eduroam1', 'UVIC_Eduroam2', 'localization3', 'localization_lab5g', 'localization1', 'localization4_5g', 'UVIC_Eduroam3', 'localization2', 'localization3_5g', 'UVIC_Eduroam4', 'localization1_5g'])\n",
    "df = df.loc[:,['x','y','Magicv2', 'localization4', 'localizationlab', 'Magicv2_5g', \n",
    "       'localization3', 'localization_lab5g', 'localization1', 'localization4_5g', 'localization2',\n",
    "       'localization3_5g', 'localization1_5g']]\n",
    "\n",
    "df['Average'] = (df.Magicv2 + df.localization4 + df.localizationlab + df.Magicv2_5g + df.localization3 + df.localization_lab5g + df.localization1 + df.localization4_5g + df.localization2 + df.localization3_5g + df.localization1_5g)/11"
   ]
  },
  {
   "cell_type": "code",
   "execution_count": 93,
   "metadata": {},
   "outputs": [],
   "source": [
    "X = df.drop(['Magicv2', 'localization4', 'localizationlab', 'Magicv2_5g', \n",
    "       'localization3', 'localization_lab5g', 'localization1', 'localization4_5g', 'localization2',\n",
    "       'localization3_5g', 'localization1_5g'], axis = 1)\n",
    "y = df['Average']\n"
   ]
  },
  {
   "cell_type": "code",
   "execution_count": 94,
   "metadata": {},
   "outputs": [],
   "source": [
    "x_train, x_test, y_train, y_test = train_test_split(X, y, test_size=0.2,shuffle=False)"
   ]
  },
  {
   "cell_type": "code",
   "execution_count": 69,
   "metadata": {},
   "outputs": [],
   "source": [
    "grid_result = gsc.fit(x_train, y_train)\n",
    "best_params = grid_result.best_params_\n",
    "best_svr = SVR(kernel='rbf', C=best_params[\"C\"], epsilon=best_params[\"epsilon\"], gamma=best_params[\"gamma\"],\n",
    "                   coef0=0.1, shrinking=True,\n",
    "                   tol=0.001, cache_size=200, verbose=False, max_iter=-1)"
   ]
  },
  {
   "cell_type": "code",
   "execution_count": 70,
   "metadata": {},
   "outputs": [
    {
     "name": "stdout",
     "output_type": "stream",
     "text": [
      "{'C': 1000, 'epsilon': 0.0001, 'gamma': 0.001}\n",
      "-2.3590517370869697e-07\n"
     ]
    }
   ],
   "source": [
    "print(best_params)\n",
    "print(gsc.score(x_train,y_train))"
   ]
  },
  {
   "cell_type": "code",
   "execution_count": 95,
   "metadata": {},
   "outputs": [
    {
     "data": {
      "text/plain": [
       "SVR(C=1000, cache_size=200, coef0=0.0, degree=3, epsilon=0.0001, gamma=0.001,\n",
       "    kernel='rbf', max_iter=-1, shrinking=True, tol=0.001, verbose=False)"
      ]
     },
     "execution_count": 95,
     "metadata": {},
     "output_type": "execute_result"
    }
   ],
   "source": [
    "SupportVectorRegModel = SVR(kernel='rbf', gamma = 0.001, C = 1000, epsilon = 0.0001)\n",
    "SupportVectorRegModel.fit(x_train, y_train)"
   ]
  },
  {
   "cell_type": "code",
   "execution_count": 96,
   "metadata": {},
   "outputs": [
    {
     "data": {
      "text/plain": [
       "array([-74.0909831 , -74.18191721, -74.0909831 , -74.18191721,\n",
       "       -75.00014337, -75.54529621, -75.45445808, -75.27275521,\n",
       "       -74.81837037, -74.36385652, -74.63657685, -74.63657685,\n",
       "       -74.81837037, -75.27275521, -74.45476669, -74.81837037,\n",
       "       -75.63612463, -75.00014337, -74.81837037, -74.81837037,\n",
       "       -74.09111077, -74.54567361, -74.09111077, -74.18202815,\n",
       "       -76.90524599, -73.72740129, -73.45469102, -73.36378804,\n",
       "       -73.00018631, -73.00018631, -73.81830407, -73.81830407,\n",
       "       -73.72740129, -73.45469102, -73.63649796, -73.54559443,\n",
       "       -74.36368862, -74.45457693, -74.00010659, -73.81830407,\n",
       "       -73.81830407, -73.72740129, -73.63649796, -73.45469102,\n",
       "       -73.09082024, -73.63608809, -72.45474222, -72.72733262,\n",
       "       -72.54560279, -71.81881923, -72.2730309 , -72.00049154,\n",
       "       -72.09133405, -75.7252547 , -72.45474222, -72.09133405,\n",
       "       -72.81820141, -72.63646633, -72.90907246, -72.63646633,\n",
       "       -72.45474222, -72.63646633, -72.99994549, -72.54560279,\n",
       "       -74.81687382, -74.0903096 , -74.45363146, -72.00103408,\n",
       "       -72.09184655, -71.72862393, -72.09184655, -72.72763831,\n",
       "       -72.18266321, -72.27348384, -72.36430822, -72.36430822,\n",
       "       -72.45513611, -72.63680141, -72.63680141, -72.81847768,\n",
       "       -72.81847768, -72.81847768, -72.63680141, -72.27348384,\n",
       "       -72.09223877, -74.45306689, -74.08990575, -74.27149531,\n",
       "       -74.54384461, -74.45306689, -71.81992316, -71.63840455,\n",
       "       -71.72916119, -71.63840455, -71.81992316, -71.54765346,\n",
       "       -71.54765346, -71.72916119, -71.63840455, -71.36616874,\n",
       "       -72.27380486, -71.81992316, -71.72916119, -71.63840455,\n",
       "       -73.18154582, -73.36307319, -69.82634907, -70.27917589,\n",
       "       -70.27917589, -70.00745049, -70.6416049 , -70.73223377,\n",
       "       -70.4603727 , -70.36976977, -70.27917589, -71.36685452,\n",
       "       -70.09801605, -71.27617251, -70.73223377, -70.36976977,\n",
       "       -70.18859125, -70.4603727 , -70.36976977, -70.27917589])"
      ]
     },
     "execution_count": 96,
     "metadata": {},
     "output_type": "execute_result"
    }
   ],
   "source": [
    "y_pred = SupportVectorRegModel.predict(x_test)\n",
    "y_pred"
   ]
  },
  {
   "cell_type": "code",
   "execution_count": 97,
   "metadata": {},
   "outputs": [
    {
     "data": {
      "text/plain": [
       "0.00248039816409347"
      ]
     },
     "execution_count": 97,
     "metadata": {},
     "output_type": "execute_result"
    }
   ],
   "source": [
    "mse = mean_squared_error(y_test, y_pred)\n",
    "rmse = np.sqrt(mse)\n",
    "rmse"
   ]
  },
  {
   "cell_type": "code",
   "execution_count": 98,
   "metadata": {},
   "outputs": [
    {
     "data": {
      "text/html": [
       "<div>\n",
       "<style scoped>\n",
       "    .dataframe tbody tr th:only-of-type {\n",
       "        vertical-align: middle;\n",
       "    }\n",
       "\n",
       "    .dataframe tbody tr th {\n",
       "        vertical-align: top;\n",
       "    }\n",
       "\n",
       "    .dataframe thead th {\n",
       "        text-align: right;\n",
       "    }\n",
       "</style>\n",
       "<table border=\"1\" class=\"dataframe\">\n",
       "  <thead>\n",
       "    <tr style=\"text-align: right;\">\n",
       "      <th></th>\n",
       "      <th>Actual</th>\n",
       "      <th>Predicted</th>\n",
       "    </tr>\n",
       "  </thead>\n",
       "  <tbody>\n",
       "    <tr>\n",
       "      <th>496</th>\n",
       "      <td>-74.090909</td>\n",
       "      <td>-74.090983</td>\n",
       "    </tr>\n",
       "    <tr>\n",
       "      <th>497</th>\n",
       "      <td>-74.181818</td>\n",
       "      <td>-74.181917</td>\n",
       "    </tr>\n",
       "    <tr>\n",
       "      <th>498</th>\n",
       "      <td>-74.090909</td>\n",
       "      <td>-74.090983</td>\n",
       "    </tr>\n",
       "    <tr>\n",
       "      <th>499</th>\n",
       "      <td>-74.181818</td>\n",
       "      <td>-74.181917</td>\n",
       "    </tr>\n",
       "    <tr>\n",
       "      <th>500</th>\n",
       "      <td>-75.000000</td>\n",
       "      <td>-75.000143</td>\n",
       "    </tr>\n",
       "    <tr>\n",
       "      <th>...</th>\n",
       "      <td>...</td>\n",
       "      <td>...</td>\n",
       "    </tr>\n",
       "    <tr>\n",
       "      <th>615</th>\n",
       "      <td>-70.363636</td>\n",
       "      <td>-70.369770</td>\n",
       "    </tr>\n",
       "    <tr>\n",
       "      <th>616</th>\n",
       "      <td>-70.181818</td>\n",
       "      <td>-70.188591</td>\n",
       "    </tr>\n",
       "    <tr>\n",
       "      <th>617</th>\n",
       "      <td>-70.454545</td>\n",
       "      <td>-70.460373</td>\n",
       "    </tr>\n",
       "    <tr>\n",
       "      <th>618</th>\n",
       "      <td>-70.363636</td>\n",
       "      <td>-70.369770</td>\n",
       "    </tr>\n",
       "    <tr>\n",
       "      <th>619</th>\n",
       "      <td>-70.272727</td>\n",
       "      <td>-70.279176</td>\n",
       "    </tr>\n",
       "  </tbody>\n",
       "</table>\n",
       "<p>124 rows × 2 columns</p>\n",
       "</div>"
      ],
      "text/plain": [
       "        Actual  Predicted\n",
       "496 -74.090909 -74.090983\n",
       "497 -74.181818 -74.181917\n",
       "498 -74.090909 -74.090983\n",
       "499 -74.181818 -74.181917\n",
       "500 -75.000000 -75.000143\n",
       "..         ...        ...\n",
       "615 -70.363636 -70.369770\n",
       "616 -70.181818 -70.188591\n",
       "617 -70.454545 -70.460373\n",
       "618 -70.363636 -70.369770\n",
       "619 -70.272727 -70.279176\n",
       "\n",
       "[124 rows x 2 columns]"
      ]
     },
     "execution_count": 98,
     "metadata": {},
     "output_type": "execute_result"
    }
   ],
   "source": [
    "df=pd.DataFrame({'Actual':y_test, 'Predicted':y_pred})\n",
    "df"
   ]
  },
  {
   "cell_type": "code",
   "execution_count": 99,
   "metadata": {},
   "outputs": [
    {
     "name": "stdout",
     "output_type": "stream",
     "text": [
      "Mean Absolute Error: 0.0013971846741658658\n",
      "Mean Squared Error: 6.152375052438257e-06\n",
      "Root Mean Squared Error: 0.00248039816409347\n"
     ]
    }
   ],
   "source": [
    "from sklearn import metrics\n",
    "print('Mean Absolute Error:', metrics.mean_absolute_error(y_test, y_pred))\n",
    "print('Mean Squared Error:', metrics.mean_squared_error(y_test, y_pred))\n",
    "print('Root Mean Squared Error:', np.sqrt(metrics.mean_squared_error(y_test, y_pred)))\n"
   ]
  },
  {
   "cell_type": "code",
   "execution_count": 100,
   "metadata": {},
   "outputs": [
    {
     "data": {
      "image/png": "[encoded data removed]",
      "text/plain": [
       "<Figure size 432x288 with 1 Axes>"
      ]
     },
     "metadata": {
      "needs_background": "light"
     },
     "output_type": "display_data"
    }
   ],
   "source": [
    "plt.plot(df.Actual.index, df.Actual)\n",
    "plt.plot(df.Actual.index, df.Predicted)\n",
    "plt.title('RSSI vs. Time Step')\n",
    "plt.xlabel('Time Step')\n",
    "plt.ylabel('RSSI')\n",
    "plt.show()"
   ]
  },
  {
   "cell_type": "code",
   "execution_count": 145,
   "metadata": {},
   "outputs": [
    {
     "data": {
      "text/plain": [
       "SVR(C=20, cache_size=200, coef0=0.0, degree=3, epsilon=0.6, gamma=0.0001,\n",
       "    kernel='rbf', max_iter=-1, shrinking=True, tol=0.001, verbose=False)"
      ]
     },
     "execution_count": 145,
     "metadata": {},
     "output_type": "execute_result"
    }
   ],
   "source": [
    "SupportVectorRegModel = SVR(kernel='rbf', gamma = 0.0001, C = 20, epsilon = 0.6)\n",
    "SupportVectorRegModel.fit(X, y)"
   ]
  },
  {
   "cell_type": "code",
   "execution_count": 146,
   "metadata": {},
   "outputs": [
    {
     "data": {
      "text/plain": [
       "array([-66.50756736, -66.07113097, -65.4903131 , -65.78055574,\n",
       "       -65.99845724, -65.41780709, -65.78055574, -65.41780709,\n",
       "       -65.34532364, -65.1280123 , -67.30925354, -67.67421519,\n",
       "       -65.41780709, -64.54959722, -64.62180891, -64.33312456,\n",
       "       -64.26102233, -64.11690295, -63.97289938, -64.26102233,\n",
       "       -68.80018822, -66.97324396, -67.04617909, -67.7032113 ,\n",
       "       -67.19209293, -67.04617909, -66.60880071, -66.68165718,\n",
       "       -66.31754652, -66.24477768, -66.3903336 , -66.3903336 ,\n",
       "       -67.11912886, -66.17202745, -67.26507093, -67.04617909,\n",
       "       -66.82741911, -67.3380625 , -67.19209293, -67.41106728,\n",
       "       -67.95632202, -68.02945958, -67.59079559, -67.66387816,\n",
       "       -67.66387816, -67.66387816, -67.29858974, -67.22557119,\n",
       "       -67.22557119, -67.51772511, -70.00673544, -69.05426175,\n",
       "       -68.76132074, -68.32210533, -70.59293511, -68.83454745,\n",
       "       -67.8100781 , -68.10260705, -67.44466706, -67.73697245,\n",
       "       -67.55650911, -67.62962206, -68.14172916, -68.36135328,\n",
       "       -68.06853962, -67.84903161, -67.84903161, -68.06853962,\n",
       "       -67.84903161, -67.92219049, -67.55650911, -67.77588367,\n",
       "       -67.99535994, -68.21492819, -68.06853962, -67.92219049,\n",
       "       -68.21492819, -68.43457862, -68.21492819, -68.21492819,\n",
       "       -70.59619363, -73.96139945, -71.62257572, -71.69584348,\n",
       "       -70.59619363, -70.44950398, -70.08275473, -70.156106  ,\n",
       "       -70.08275473, -71.84235475, -71.76910328, -71.69584348,\n",
       "       -71.69584348, -71.76910328, -71.69584348, -69.78935342,\n",
       "       -69.78935342, -70.08275473, -70.44950398, -70.30280714,\n",
       "       -68.43356875, -70.04725183, -70.04725183, -70.41415837,\n",
       "       -70.92775451, -72.24722248, -69.24014941, -69.0201008 ,\n",
       "       -69.68035326, -69.38687065, -69.38687065, -69.0201008 ,\n",
       "       -69.46023683, -69.31350805, -69.38687065, -70.56091305,\n",
       "       -70.48753664, -70.48753664, -70.48753664, -70.63428724,\n",
       "       -70.22826126, -70.08144786, -70.44847699, -70.44847699,\n",
       "       -70.30166745, -69.12731651, -68.90722299, -68.83387014,\n",
       "       -68.76052374, -68.61385169, -68.61385169, -68.24730962,\n",
       "       -70.22826126, -70.15485461, -68.46720975, -68.46720975,\n",
       "       -68.61385169, -68.61385169, -68.76052374, -68.90722299,\n",
       "       -68.79669355, -68.64997348, -68.72332996, -69.09021175,\n",
       "       -68.50328328, -69.38381465, -69.09021175, -69.60405842,\n",
       "       -69.09021175, -68.94344061, -68.79669355, -69.09021175,\n",
       "       -69.09021175, -68.87006389, -69.38381465, -68.79669355,\n",
       "       -69.23700406, -68.79669355, -69.16360544, -68.79669355,\n",
       "       -69.42212783, -69.56899553, -70.00966033, -69.86276469,\n",
       "       -69.20185556, -70.15655948, -70.00966033, -70.30345922,\n",
       "       -70.08310965, -69.78931909, -70.08310965, -69.64243414,\n",
       "       -70.52380358, -70.23000946, -69.86276469, -70.00966033,\n",
       "       -69.12844072, -69.49555997, -69.56899553, -69.42212783,\n",
       "       -68.72527834, -68.72527834, -68.79867345, -68.79867345,\n",
       "       -69.31261469, -69.45950055, -69.45950055, -68.65189059,\n",
       "       -70.19409517, -69.90023589, -70.19409517, -69.67985637,\n",
       "       -68.94548429, -69.09232019, -69.01889929, -68.65189059,\n",
       "       -68.35842039, -68.35842039, -68.21173885, -68.5051386 ,\n",
       "       -68.3194758 , -68.53957794, -68.61296259, -68.39283419,\n",
       "       -68.09945897, -68.2461269 , -68.17278783, -68.09945897,\n",
       "       -67.95283331, -68.2461269 , -68.02614068, -67.95283331,\n",
       "       -67.87953724, -67.95283331, -67.95283331, -70.22881291,\n",
       "       -70.00838234, -69.93490726, -69.93490726, -70.22881291,\n",
       "       -69.67745421, -70.26531202, -70.19182605, -69.97137166,\n",
       "       -70.41228353, -70.04485551, -70.33879797, -70.19182605,\n",
       "       -69.97137166, -70.04485551, -70.11834043, -70.11834043,\n",
       "       -70.26531202, -70.26531202, -70.11834043, -70.33879797,\n",
       "       -70.26531202, -70.41228353, -70.48576834, -70.48576834,\n",
       "       -70.00772724, -69.86075372, -69.71378861, -69.71378861,\n",
       "       -69.19951897, -69.86075372, -69.71378861, -69.86075372,\n",
       "       -69.64031012, -69.71378861, -69.41989527, -69.86075372,\n",
       "       -69.93423961, -69.86075372, -69.78726993, -69.56683483,\n",
       "       -69.19951897, -69.78726993, -69.71378861, -69.41989527,\n",
       "       -69.16298424, -69.23643501, -69.0161001 , -70.63259548,\n",
       "       -69.67723858, -69.16298424, -68.79582283, -71.0734871 ,\n",
       "       -71.14695795, -70.70608352, -68.79582283, -68.86924158,\n",
       "       -69.0161001 , -68.86924158, -68.6490082 , -68.6490082 ,\n",
       "       -68.50222645, -71.00001248, -71.0734871 , -71.14695795,\n",
       "       -68.61207471, -71.03641208, -69.19943658, -69.41980004,\n",
       "       -69.27288593, -69.49326408, -69.19943658, -69.34634054,\n",
       "       -69.49326408, -69.6402043 , -69.6402043 , -69.41980004,\n",
       "       -69.27288593, -69.34634054, -69.19943658, -69.41980004,\n",
       "       -69.19943658, -69.6402043 , -71.99114245, -69.56673229,\n",
       "       -68.28316444, -68.0631975 , -68.28316444, -67.98989744,\n",
       "       -68.0631975 , -67.98989744, -67.98989744, -68.0631975 ,\n",
       "       -68.28316444, -67.77006907, -68.13650893, -68.20983137,\n",
       "       -68.20983137, -68.28316444, -68.42986107, -69.82497499,\n",
       "       -70.26585455, -70.04540772, -68.0631975 , -67.98989744,\n",
       "       -69.27592618, -69.34936067, -69.56969351, -70.30434437,\n",
       "       -69.86352562, -69.93699105, -69.79006279, -69.56969351,\n",
       "       -69.56969351, -70.08392823, -70.67170805, -70.37781773,\n",
       "       -70.15739926, -70.67170805, -69.86352562, -70.30434437,\n",
       "       -69.86352562, -70.08392823, -70.08392823, -70.08392823,\n",
       "       -70.48582575, -70.48582575, -70.41236522, -70.3389047 ,\n",
       "       -70.11852673, -70.48582575, -70.70620366, -70.70620366,\n",
       "       -70.63274533, -70.5592859 , -70.5592859 , -70.26544453,\n",
       "       -70.41236522, -70.19198508, -70.5592859 , -70.5592859 ,\n",
       "       -70.26544453, -70.41236522, -70.3389047 , -70.04506982,\n",
       "       -71.62142865, -71.62142865, -71.84159185, -72.06169242,\n",
       "       -71.54802869, -71.84159185, -71.76821059, -73.67291864,\n",
       "       -73.67291864, -71.84159185, -71.69482274, -71.84159185,\n",
       "       -71.84159185, -73.96514909, -71.91496615, -71.76821059,\n",
       "       -71.76821059, -71.84159185, -71.76821059, -71.91496615,\n",
       "       -72.02460267, -73.34313534, -71.51104633, -71.65780816,\n",
       "       -71.80454629, -71.9512578 , -72.02460267, -71.9512578 ,\n",
       "       -71.58443003, -71.65780816, -71.9512578 , -71.9512578 ,\n",
       "       -71.65780816, -71.9512578 , -72.24458938, -72.17126882,\n",
       "       -72.0979398 , -71.9512578 , -72.0979398 , -72.0979398 ,\n",
       "       -73.8186018 , -72.94124879, -73.01443695, -72.94124879,\n",
       "       -73.23392495, -73.16077539, -73.08761261, -73.08761261,\n",
       "       -73.01443695, -73.08761261, -75.42047212, -75.34788689,\n",
       "       -75.71056576, -73.52638365, -73.16077539, -73.01443695,\n",
       "       -73.16077539, -73.08761261, -73.08761261, -73.23392495,\n",
       "       -71.79956399, -71.72624367, -71.65291731, -71.79956399,\n",
       "       -71.43290568, -71.50624795, -71.28620774, -71.21285281,\n",
       "       -71.28620774, -71.43290568, -71.28620774, -71.35955882,\n",
       "       -71.43290568, -71.43290568, -71.21285281, -71.21285281,\n",
       "       -71.43290568, -71.35955882, -71.43290568, -71.35955882,\n",
       "       -73.88586348, -73.95881451, -71.69124788, -71.76453905,\n",
       "       -71.91110276, -71.83782413, -71.83782413, -71.83782413,\n",
       "       -71.98437457, -71.69124788, -71.83782413, -72.27738642,\n",
       "       -72.1308963 , -72.2041455 , -72.05763921, -71.98437457,\n",
       "       -72.42384204, -72.35061872, -72.1308963 , -74.76007904,\n",
       "       -73.558087  , -73.9957875 , -73.84995144, -73.84995144,\n",
       "       -73.92287778, -73.84995144, -73.558087  , -73.48508293,\n",
       "       -73.84995144, -73.63107625, -73.63107625, -73.33903174,\n",
       "       -73.558087  , -73.92287778, -73.77700883, -73.92287778,\n",
       "       -73.558087  , -73.70405031, -73.77700883, -73.84995144,\n",
       "       -74.17124325, -74.46241666, -74.17124325, -73.44211783,\n",
       "       -73.80687989, -73.73395794, -73.73395794, -74.09840463,\n",
       "       -76.05777049, -75.62381206, -75.33400372, -75.26149206,\n",
       "       -75.62381206, -75.76856826, -75.47895626, -73.9526756 ,\n",
       "       -73.73395794, -73.80687989, -73.73395794, -73.80687989,\n",
       "       -74.49581286, -74.93171589, -74.85911673, -74.71385573,\n",
       "       -74.35035421, -73.98638994, -74.20482152, -74.20482152,\n",
       "       -74.35035421, -74.71385573, -74.05921766, -74.35035421,\n",
       "       -75.00429367, -74.49581286, -74.35035421, -74.35035421,\n",
       "       -73.76780794, -74.13202831, -73.76780794, -73.84068472,\n",
       "       -76.04848735, -73.50834544, -73.28958907, -73.21664348,\n",
       "       -72.92473674, -72.92473674, -73.58123622, -73.58123622,\n",
       "       -73.50834544, -73.28958907, -73.43544041, -73.3625215 ,\n",
       "       -74.01826174, -74.09104276, -73.72697363, -73.58123622,\n",
       "       -73.58123622, -73.50834544, -73.43544041, -73.28958907,\n",
       "       -73.03233297, -73.46972219, -72.52151563, -72.74050002,\n",
       "       -72.59452015, -72.01024547, -72.37547923, -72.15636164,\n",
       "       -72.22940876, -75.14105712, -72.52151563, -72.22940876,\n",
       "       -72.81347464, -72.66751506, -72.88643858, -72.66751506,\n",
       "       -72.52151563, -72.66751506, -72.95939148, -72.59452015,\n",
       "       -74.44772465, -73.86642859, -74.15721426, -72.19022171,\n",
       "       -72.26321435, -71.97120031, -72.26321435, -72.77392294,\n",
       "       -72.33619915, -72.40917574, -72.48214376, -72.48214376,\n",
       "       -72.55510285, -72.7009928 , -72.7009928 , -72.8468427 ,\n",
       "       -72.8468427 , -72.8468427 , -72.7009928 , -72.40917574,\n",
       "       -72.29578138, -74.18830137, -73.89774528, -74.04305638,\n",
       "       -74.26089817, -74.18830137, -72.07695013, -71.93102797,\n",
       "       -72.00399228, -71.93102797, -72.07695013, -71.85805757,\n",
       "       -71.85805757, -72.00399228, -71.93102797, -71.71209996,\n",
       "       -72.44163001, -72.07695013, -72.00399228, -71.93102797,\n",
       "       -73.20508052, -73.35054596, -70.50815126, -70.87291939,\n",
       "       -70.87291939, -70.65405782, -71.16472292, -71.23766927,\n",
       "       -71.01882406, -70.94587227, -70.87291939, -71.74820251,\n",
       "       -70.72701181, -71.67528149, -71.23766927, -70.94587227,\n",
       "       -70.79996578, -71.01882406, -70.94587227, -70.87291939])"
      ]
     },
     "execution_count": 146,
     "metadata": {},
     "output_type": "execute_result"
    }
   ],
   "source": [
    "y_pred = SupportVectorRegModel.predict(X)\n",
    "y_pred"
   ]
  },
  {
   "cell_type": "code",
   "execution_count": 147,
   "metadata": {},
   "outputs": [
    {
     "data": {
      "text/plain": [
       "0.3365448189633139"
      ]
     },
     "execution_count": 147,
     "metadata": {},
     "output_type": "execute_result"
    }
   ],
   "source": [
    "mse = mean_squared_error(y, y_pred)\n",
    "rmse = np.sqrt(mse)\n",
    "rmse"
   ]
  },
  {
   "cell_type": "code",
   "execution_count": 148,
   "metadata": {},
   "outputs": [
    {
     "data": {
      "text/html": [
       "<div>\n",
       "<style scoped>\n",
       "    .dataframe tbody tr th:only-of-type {\n",
       "        vertical-align: middle;\n",
       "    }\n",
       "\n",
       "    .dataframe tbody tr th {\n",
       "        vertical-align: top;\n",
       "    }\n",
       "\n",
       "    .dataframe thead th {\n",
       "        text-align: right;\n",
       "    }\n",
       "</style>\n",
       "<table border=\"1\" class=\"dataframe\">\n",
       "  <thead>\n",
       "    <tr style=\"text-align: right;\">\n",
       "      <th></th>\n",
       "      <th>Actual</th>\n",
       "      <th>Predicted</th>\n",
       "    </tr>\n",
       "  </thead>\n",
       "  <tbody>\n",
       "    <tr>\n",
       "      <th>0</th>\n",
       "      <td>-66.181818</td>\n",
       "      <td>-66.507567</td>\n",
       "    </tr>\n",
       "    <tr>\n",
       "      <th>1</th>\n",
       "      <td>-65.636364</td>\n",
       "      <td>-66.071131</td>\n",
       "    </tr>\n",
       "    <tr>\n",
       "      <th>2</th>\n",
       "      <td>-64.909091</td>\n",
       "      <td>-65.490313</td>\n",
       "    </tr>\n",
       "    <tr>\n",
       "      <th>3</th>\n",
       "      <td>-65.272727</td>\n",
       "      <td>-65.780556</td>\n",
       "    </tr>\n",
       "    <tr>\n",
       "      <th>4</th>\n",
       "      <td>-65.545455</td>\n",
       "      <td>-65.998457</td>\n",
       "    </tr>\n",
       "    <tr>\n",
       "      <th>...</th>\n",
       "      <td>...</td>\n",
       "      <td>...</td>\n",
       "    </tr>\n",
       "    <tr>\n",
       "      <th>615</th>\n",
       "      <td>-70.363636</td>\n",
       "      <td>-70.945872</td>\n",
       "    </tr>\n",
       "    <tr>\n",
       "      <th>616</th>\n",
       "      <td>-70.181818</td>\n",
       "      <td>-70.799966</td>\n",
       "    </tr>\n",
       "    <tr>\n",
       "      <th>617</th>\n",
       "      <td>-70.454545</td>\n",
       "      <td>-71.018824</td>\n",
       "    </tr>\n",
       "    <tr>\n",
       "      <th>618</th>\n",
       "      <td>-70.363636</td>\n",
       "      <td>-70.945872</td>\n",
       "    </tr>\n",
       "    <tr>\n",
       "      <th>619</th>\n",
       "      <td>-70.272727</td>\n",
       "      <td>-70.872919</td>\n",
       "    </tr>\n",
       "  </tbody>\n",
       "</table>\n",
       "<p>620 rows × 2 columns</p>\n",
       "</div>"
      ],
      "text/plain": [
       "        Actual  Predicted\n",
       "0   -66.181818 -66.507567\n",
       "1   -65.636364 -66.071131\n",
       "2   -64.909091 -65.490313\n",
       "3   -65.272727 -65.780556\n",
       "4   -65.545455 -65.998457\n",
       "..         ...        ...\n",
       "615 -70.363636 -70.945872\n",
       "616 -70.181818 -70.799966\n",
       "617 -70.454545 -71.018824\n",
       "618 -70.363636 -70.945872\n",
       "619 -70.272727 -70.872919\n",
       "\n",
       "[620 rows x 2 columns]"
      ]
     },
     "execution_count": 148,
     "metadata": {},
     "output_type": "execute_result"
    }
   ],
   "source": [
    "df=pd.DataFrame({'Actual':y, 'Predicted':y_pred})\n",
    "df"
   ]
  },
  {
   "cell_type": "code",
   "execution_count": 149,
   "metadata": {},
   "outputs": [
    {
     "name": "stdout",
     "output_type": "stream",
     "text": [
      "Mean Absolute Error: 0.25966335266732765\n",
      "Mean Squared Error: 0.11326241517104972\n",
      "Root Mean Squared Error: 0.3365448189633139\n"
     ]
    }
   ],
   "source": [
    "from sklearn import metrics\n",
    "print('Mean Absolute Error:', metrics.mean_absolute_error(y, y_pred))\n",
    "print('Mean Squared Error:', metrics.mean_squared_error(y, y_pred))\n",
    "print('Root Mean Squared Error:', np.sqrt(metrics.mean_squared_error(y, y_pred)))\n"
   ]
  },
  {
   "cell_type": "code",
   "execution_count": 150,
   "metadata": {},
   "outputs": [
    {
     "data": {
      "image/png": "[encoded data removed]",
      "text/plain": [
       "<Figure size 432x288 with 1 Axes>"
      ]
     },
     "metadata": {
      "needs_background": "light"
     },
     "output_type": "display_data"
    }
   ],
   "source": [
    "df.Actual.plot( legend = True)\n",
    "df.Predicted.plot( legend = True)\n",
    "plt.title('SVM Regression (RBF)')\n",
    "plt.xlabel('Time Step')\n",
    "plt.ylabel('RSSI')\n",
    "plt.show()\n"
   ]
  },
  {
   "cell_type": "code",
   "execution_count": null,
   "metadata": {},
   "outputs": [],
   "source": []
  },
  {
   "cell_type": "code",
   "execution_count": null,
   "metadata": {},
   "outputs": [],
   "source": []
  },
  {
   "cell_type": "code",
   "execution_count": null,
   "metadata": {},
   "outputs": [],
   "source": []
  },
  {
   "cell_type": "code",
   "execution_count": null,
   "metadata": {},
   "outputs": [],
   "source": []
  }
 ],
 "metadata": {
  "kernelspec": {
   "display_name": "Python 3",
   "language": "python",
   "name": "python3"
  },
  "language_info": {
   "codemirror_mode": {
    "name": "ipython",
    "version": 3
   },
   "file_extension": ".py",
   "mimetype": "text/x-python",
   "name": "python",
   "nbconvert_exporter": "python",
   "pygments_lexer": "ipython3",
   "version": "3.7.6"
  }
 },
 "nbformat": 4,
 "nbformat_minor": 4
}
